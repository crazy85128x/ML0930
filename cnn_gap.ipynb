{
  "nbformat": 4,
  "nbformat_minor": 0,
  "metadata": {
    "colab": {
      "name": "cnn_gap.ipynb",
      "provenance": [],
      "authorship_tag": "ABX9TyN3fU3KwfVe9fGjUUHeDwUQ",
      "include_colab_link": true
    },
    "kernelspec": {
      "name": "python3",
      "display_name": "Python 3"
    },
    "accelerator": "GPU"
  },
  "cells": [
    {
      "cell_type": "markdown",
      "metadata": {
        "id": "view-in-github",
        "colab_type": "text"
      },
      "source": [
        "<a href=\"https://colab.research.google.com/github/crazy85128x/ML0930/blob/master/cnn_gap.ipynb\" target=\"_parent\"><img src=\"https://colab.research.google.com/assets/colab-badge.svg\" alt=\"Open In Colab\"/></a>"
      ]
    },
    {
      "cell_type": "code",
      "metadata": {
        "id": "qvuc-Ol78djJ"
      },
      "source": [
        "from tensorflow.keras.datasets import cifar10\n",
        "(x_train, y_train), (x_test, y_test) = cifar10.load_data()"
      ],
      "execution_count": 9,
      "outputs": []
    },
    {
      "cell_type": "code",
      "metadata": {
        "id": "o-fCeiTz9Xsd"
      },
      "source": [
        "trans = [\n",
        "    \"airplane\",\t\t\t\t\t\t\t\t\t\t\n",
        "    \"automobile\",\t\t\t\t\t\t\t\t\t\t\n",
        "    \"bird\",\t\t\t\t\t\t\t\n",
        "    \"cat\",\t\t\t\t\t\t\t\t\t\n",
        "    \"deer\",\t\t\t\t\t\t\t\t\t\t\n",
        "    \"dog\",\t\t\t\t\t\t\t\t\t\n",
        "    \"frog\",\t\t\t\t\t\t\t\t\t\t\n",
        "    \"horse\",\t\t\t\t\t\t\t\t\t\t\n",
        "    \"ship\",\t\t\t\t\t\t\t\t\t\n",
        "    \"truck\"\n",
        "]\n"
      ],
      "execution_count": 10,
      "outputs": []
    },
    {
      "cell_type": "code",
      "metadata": {
        "id": "4EBdJpgn-DXK",
        "outputId": "3173b567-7a2f-470e-c5a5-6bddd50de344",
        "colab": {
          "base_uri": "https://localhost:8080/",
          "height": 85
        }
      },
      "source": [
        "print(x_train.shape)\n",
        "print(x_test.shape)\n",
        "print(y_train.shape)\n",
        "print(y_test.shape)\n"
      ],
      "execution_count": 11,
      "outputs": [
        {
          "output_type": "stream",
          "text": [
            "(50000, 32, 32, 3)\n",
            "(10000, 32, 32, 3)\n",
            "(50000, 1)\n",
            "(10000, 1)\n"
          ],
          "name": "stdout"
        }
      ]
    },
    {
      "cell_type": "code",
      "metadata": {
        "id": "n-ECbuDj-R7g",
        "outputId": "25012068-f601-4761-ecb4-c1238442cb72",
        "colab": {
          "base_uri": "https://localhost:8080/",
          "height": 136
        }
      },
      "source": [
        "y_train"
      ],
      "execution_count": 12,
      "outputs": [
        {
          "output_type": "execute_result",
          "data": {
            "text/plain": [
              "array([[6],\n",
              "       [9],\n",
              "       [9],\n",
              "       ...,\n",
              "       [9],\n",
              "       [1],\n",
              "       [1]], dtype=uint8)"
            ]
          },
          "metadata": {
            "tags": []
          },
          "execution_count": 12
        }
      ]
    },
    {
      "cell_type": "code",
      "metadata": {
        "id": "EGWdMpaM-VFY",
        "outputId": "936ffad1-2d33-4edd-9ead-6e50c0b26459",
        "colab": {
          "base_uri": "https://localhost:8080/",
          "height": 300
        }
      },
      "source": [
        "import random\n",
        "import matplotlib.pyplot as plt\n",
        "\n",
        "idx = random.randint(0, x_train.shape[0]-1)\n",
        "print(\"ans \", trans[y_train[idx][0]])\n",
        "plt.imshow(x_train[idx])"
      ],
      "execution_count": 13,
      "outputs": [
        {
          "output_type": "stream",
          "text": [
            "ans  deer\n"
          ],
          "name": "stdout"
        },
        {
          "output_type": "execute_result",
          "data": {
            "text/plain": [
              "<matplotlib.image.AxesImage at 0x7f83200bf5c0>"
            ]
          },
          "metadata": {
            "tags": []
          },
          "execution_count": 13
        },
        {
          "output_type": "display_data",
          "data": {
            "image/png": "[encoded data removed]",
            "text/plain": [
              "<Figure size 432x288 with 1 Axes>"
            ]
          },
          "metadata": {
            "tags": [],
            "needs_background": "light"
          }
        }
      ]
    },
    {
      "cell_type": "code",
      "metadata": {
        "id": "djGCpeeC_zaL",
        "outputId": "36ba4ff6-9d7d-45ae-861c-370b4b850edf",
        "colab": {
          "base_uri": "https://localhost:8080/",
          "height": 391
        }
      },
      "source": [
        "from tensorflow.keras.models import Sequential\n",
        "from tensorflow.keras.layers import Conv2D, MaxPooling2D\n",
        "from tensorflow.keras.layers import Dense, Dropout, Flatten, GlobalAveragePooling2D\n",
        "layers = [\n",
        "    # 27(1 filter) * 64 + 64 -> 1792\n",
        "    Conv2D(64, 3, padding=\"same\", activation=\"relu\", input_shape=(32, 32, 3)),\n",
        "    MaxPooling2D(),\n",
        "    # 576(1 filter) * 128 + 128 -> 73856\n",
        "    Conv2D(128, 3, padding=\"same\", activation=\"relu\"),\n",
        "    MaxPooling2D(),\n",
        "    Conv2D(256, 3, padding=\"same\", activation=\"relu\"),\n",
        "    GlobalAveragePooling2D(),\n",
        "    Dense(10, activation=\"softmax\")\n",
        "]\n",
        "model = Sequential(layers)\n",
        "model.summary()"
      ],
      "execution_count": 14,
      "outputs": [
        {
          "output_type": "stream",
          "text": [
            "Model: \"sequential_3\"\n",
            "_________________________________________________________________\n",
            "Layer (type)                 Output Shape              Param #   \n",
            "=================================================================\n",
            "conv2d_9 (Conv2D)            (None, 32, 32, 64)        1792      \n",
            "_________________________________________________________________\n",
            "max_pooling2d_9 (MaxPooling2 (None, 16, 16, 64)        0         \n",
            "_________________________________________________________________\n",
            "conv2d_10 (Conv2D)           (None, 16, 16, 128)       73856     \n",
            "_________________________________________________________________\n",
            "max_pooling2d_10 (MaxPooling (None, 8, 8, 128)         0         \n",
            "_________________________________________________________________\n",
            "conv2d_11 (Conv2D)           (None, 8, 8, 256)         295168    \n",
            "_________________________________________________________________\n",
            "global_average_pooling2d (Gl (None, 256)               0         \n",
            "_________________________________________________________________\n",
            "dense_6 (Dense)              (None, 10)                2570      \n",
            "=================================================================\n",
            "Total params: 373,386\n",
            "Trainable params: 373,386\n",
            "Non-trainable params: 0\n",
            "_________________________________________________________________\n"
          ],
          "name": "stdout"
        }
      ]
    },
    {
      "cell_type": "code",
      "metadata": {
        "id": "Ne0q07A4FLMJ"
      },
      "source": [
        "from tensorflow.keras.losses import SparseCategoricalCrossentropy\n",
        "from tensorflow.keras.optimizers import Adam\n",
        "model.compile(loss=SparseCategoricalCrossentropy(),\n",
        "       optimizer=Adam(),\n",
        "       metrics=[\"accuracy\"])"
      ],
      "execution_count": 15,
      "outputs": []
    },
    {
      "cell_type": "code",
      "metadata": {
        "id": "kkudfsPYIzmP"
      },
      "source": [
        "x_train_norm=x_train/255\n",
        "x_test_norm=x_test/255"
      ],
      "execution_count": 16,
      "outputs": []
    },
    {
      "cell_type": "code",
      "metadata": {
        "id": "Fge2f57uGM8B",
        "outputId": "a35e8656-dd2e-4b7f-8cbd-787a934373a2",
        "colab": {
          "base_uri": "https://localhost:8080/",
          "height": 1000
        }
      },
      "source": [
        "# epoch: 整份資料要看幾遍\n",
        "# 60000筆, 2epoch, 200batch -> 60000 * 2 / 200次調整\n",
        "from tensorflow.keras.callbacks import EarlyStopping, ModelCheckpoint\n",
        "callbacks = [\n",
        "    ModelCheckpoint(\"model.h5\", save_best_only=True),\n",
        "    EarlyStopping(patience=5, restore_best_weights=True)\n",
        "]\n",
        "model.fit(x_train_norm, \n",
        "     y_train,\n",
        "     batch_size=100,\n",
        "     epochs=100,\n",
        "     validation_split=0.1,\n",
        "     callbacks=callbacks,\n",
        "     verbose=2)"
      ],
      "execution_count": 17,
      "outputs": [
        {
          "output_type": "stream",
          "text": [
            "Epoch 1/100\n",
            "WARNING:tensorflow:Callbacks method `on_train_batch_end` is slow compared to the batch time (batch time: 0.0031s vs `on_train_batch_end` time: 0.0074s). Check your callbacks.\n",
            "450/450 - 4s - loss: 1.7710 - accuracy: 0.3366 - val_loss: 1.5576 - val_accuracy: 0.3994\n",
            "Epoch 2/100\n",
            "450/450 - 3s - loss: 1.4598 - accuracy: 0.4702 - val_loss: 1.3963 - val_accuracy: 0.4830\n",
            "Epoch 3/100\n",
            "450/450 - 3s - loss: 1.3086 - accuracy: 0.5282 - val_loss: 1.2686 - val_accuracy: 0.5522\n",
            "Epoch 4/100\n",
            "450/450 - 3s - loss: 1.2106 - accuracy: 0.5690 - val_loss: 1.1669 - val_accuracy: 0.5868\n",
            "Epoch 5/100\n",
            "450/450 - 3s - loss: 1.1299 - accuracy: 0.5977 - val_loss: 1.1070 - val_accuracy: 0.6028\n",
            "Epoch 6/100\n",
            "450/450 - 3s - loss: 1.0615 - accuracy: 0.6250 - val_loss: 1.0880 - val_accuracy: 0.6092\n",
            "Epoch 7/100\n",
            "450/450 - 3s - loss: 1.0164 - accuracy: 0.6399 - val_loss: 0.9922 - val_accuracy: 0.6520\n",
            "Epoch 8/100\n",
            "450/450 - 3s - loss: 0.9564 - accuracy: 0.6644 - val_loss: 0.9382 - val_accuracy: 0.6766\n",
            "Epoch 9/100\n",
            "450/450 - 3s - loss: 0.9340 - accuracy: 0.6708 - val_loss: 0.9175 - val_accuracy: 0.6820\n",
            "Epoch 10/100\n",
            "450/450 - 3s - loss: 0.8955 - accuracy: 0.6871 - val_loss: 0.8952 - val_accuracy: 0.6860\n",
            "Epoch 11/100\n",
            "450/450 - 3s - loss: 0.8590 - accuracy: 0.6996 - val_loss: 0.8993 - val_accuracy: 0.6896\n",
            "Epoch 12/100\n",
            "450/450 - 3s - loss: 0.8287 - accuracy: 0.7084 - val_loss: 0.8555 - val_accuracy: 0.7116\n",
            "Epoch 13/100\n",
            "450/450 - 3s - loss: 0.8040 - accuracy: 0.7179 - val_loss: 0.8574 - val_accuracy: 0.7022\n",
            "Epoch 14/100\n",
            "450/450 - 3s - loss: 0.7800 - accuracy: 0.7284 - val_loss: 0.8535 - val_accuracy: 0.7062\n",
            "Epoch 15/100\n",
            "450/450 - 3s - loss: 0.7594 - accuracy: 0.7346 - val_loss: 0.7821 - val_accuracy: 0.7296\n",
            "Epoch 16/100\n",
            "450/450 - 3s - loss: 0.7385 - accuracy: 0.7419 - val_loss: 0.7924 - val_accuracy: 0.7304\n",
            "Epoch 17/100\n",
            "450/450 - 3s - loss: 0.7067 - accuracy: 0.7531 - val_loss: 0.7863 - val_accuracy: 0.7252\n",
            "Epoch 18/100\n",
            "450/450 - 3s - loss: 0.6891 - accuracy: 0.7618 - val_loss: 0.7728 - val_accuracy: 0.7346\n",
            "Epoch 19/100\n",
            "450/450 - 3s - loss: 0.6703 - accuracy: 0.7670 - val_loss: 0.7478 - val_accuracy: 0.7410\n",
            "Epoch 20/100\n",
            "450/450 - 3s - loss: 0.6469 - accuracy: 0.7746 - val_loss: 0.7246 - val_accuracy: 0.7520\n",
            "Epoch 21/100\n",
            "450/450 - 3s - loss: 0.6269 - accuracy: 0.7813 - val_loss: 0.7199 - val_accuracy: 0.7558\n",
            "Epoch 22/100\n",
            "450/450 - 3s - loss: 0.6129 - accuracy: 0.7858 - val_loss: 0.6915 - val_accuracy: 0.7730\n",
            "Epoch 23/100\n",
            "450/450 - 3s - loss: 0.5999 - accuracy: 0.7912 - val_loss: 0.6947 - val_accuracy: 0.7642\n",
            "Epoch 24/100\n",
            "450/450 - 3s - loss: 0.5748 - accuracy: 0.7988 - val_loss: 0.6833 - val_accuracy: 0.7688\n",
            "Epoch 25/100\n",
            "450/450 - 3s - loss: 0.5699 - accuracy: 0.8025 - val_loss: 0.6872 - val_accuracy: 0.7700\n",
            "Epoch 26/100\n",
            "450/450 - 3s - loss: 0.5412 - accuracy: 0.8104 - val_loss: 0.6663 - val_accuracy: 0.7740\n",
            "Epoch 27/100\n",
            "450/450 - 3s - loss: 0.5227 - accuracy: 0.8194 - val_loss: 0.6858 - val_accuracy: 0.7764\n",
            "Epoch 28/100\n",
            "450/450 - 3s - loss: 0.5038 - accuracy: 0.8245 - val_loss: 0.6655 - val_accuracy: 0.7788\n",
            "Epoch 29/100\n",
            "450/450 - 3s - loss: 0.4885 - accuracy: 0.8307 - val_loss: 0.6786 - val_accuracy: 0.7720\n",
            "Epoch 30/100\n",
            "450/450 - 3s - loss: 0.4762 - accuracy: 0.8336 - val_loss: 0.6488 - val_accuracy: 0.7810\n",
            "Epoch 31/100\n",
            "450/450 - 3s - loss: 0.4614 - accuracy: 0.8390 - val_loss: 0.6475 - val_accuracy: 0.7850\n",
            "Epoch 32/100\n",
            "450/450 - 3s - loss: 0.4426 - accuracy: 0.8460 - val_loss: 0.6912 - val_accuracy: 0.7698\n",
            "Epoch 33/100\n",
            "450/450 - 3s - loss: 0.4345 - accuracy: 0.8486 - val_loss: 0.6626 - val_accuracy: 0.7790\n",
            "Epoch 34/100\n",
            "450/450 - 3s - loss: 0.4146 - accuracy: 0.8541 - val_loss: 0.6494 - val_accuracy: 0.7780\n",
            "Epoch 35/100\n",
            "450/450 - 3s - loss: 0.4001 - accuracy: 0.8600 - val_loss: 0.6543 - val_accuracy: 0.7836\n",
            "Epoch 36/100\n",
            "450/450 - 3s - loss: 0.3887 - accuracy: 0.8641 - val_loss: 0.6407 - val_accuracy: 0.7902\n",
            "Epoch 37/100\n",
            "450/450 - 3s - loss: 0.3716 - accuracy: 0.8705 - val_loss: 0.6514 - val_accuracy: 0.7898\n",
            "Epoch 38/100\n",
            "450/450 - 3s - loss: 0.3579 - accuracy: 0.8749 - val_loss: 0.6599 - val_accuracy: 0.7834\n",
            "Epoch 39/100\n",
            "450/450 - 3s - loss: 0.3434 - accuracy: 0.8810 - val_loss: 0.6945 - val_accuracy: 0.7758\n",
            "Epoch 40/100\n",
            "450/450 - 3s - loss: 0.3318 - accuracy: 0.8847 - val_loss: 0.6897 - val_accuracy: 0.7816\n",
            "Epoch 41/100\n",
            "450/450 - 3s - loss: 0.3227 - accuracy: 0.8878 - val_loss: 0.6675 - val_accuracy: 0.7898\n"
          ],
          "name": "stdout"
        },
        {
          "output_type": "execute_result",
          "data": {
            "text/plain": [
              "<tensorflow.python.keras.callbacks.History at 0x7f831d9567b8>"
            ]
          },
          "metadata": {
            "tags": []
          },
          "execution_count": 17
        }
      ]
    },
    {
      "cell_type": "code",
      "metadata": {
        "id": "E5AHllwfJLHq",
        "outputId": "0ac672f9-ea9e-4508-b4c8-0163580633fe",
        "colab": {
          "base_uri": "https://localhost:8080/",
          "height": 51
        }
      },
      "source": [
        "model.evaluate(x_test_norm, y_test)"
      ],
      "execution_count": 18,
      "outputs": [
        {
          "output_type": "stream",
          "text": [
            "313/313 [==============================] - 1s 3ms/step - loss: 0.6640 - accuracy: 0.7794\n"
          ],
          "name": "stdout"
        },
        {
          "output_type": "execute_result",
          "data": {
            "text/plain": [
              "[0.6640439033508301, 0.7793999910354614]"
            ]
          },
          "metadata": {
            "tags": []
          },
          "execution_count": 18
        }
      ]
    }
  ]
}