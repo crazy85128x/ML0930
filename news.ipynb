{
  "nbformat": 4,
  "nbformat_minor": 0,
  "metadata": {
    "colab": {
      "name": "news.ipynb",
      "provenance": [],
      "mount_file_id": "12JoHwDh9tw8laGnKgY-Rc_ltVeelCadN",
      "authorship_tag": "ABX9TyMMBFs2JckxN/HZVLyo7MBQ",
      "include_colab_link": true
    },
    "kernelspec": {
      "name": "python3",
      "display_name": "Python 3"
    }
  },
  "cells": [
    {
      "cell_type": "markdown",
      "metadata": {
        "id": "view-in-github",
        "colab_type": "text"
      },
      "source": [
        "<a href=\"https://colab.research.google.com/github/crazy85128x/ML0930/blob/master/news.ipynb\" target=\"_parent\"><img src=\"https://colab.research.google.com/assets/colab-badge.svg\" alt=\"Open In Colab\"/></a>"
      ]
    },
    {
      "cell_type": "code",
      "metadata": {
        "id": "Bba3pTUcw5NK",
        "outputId": "c33394ff-0852-42de-f9cb-62fac4d5b371",
        "colab": {
          "base_uri": "https://localhost:8080/"
        }
      },
      "source": [
        "import glob\n",
        "glob.glob(\"drive/My Drive/*\")"
      ],
      "execution_count": 35,
      "outputs": [
        {
          "output_type": "execute_result",
          "data": {
            "text/plain": [
              "['drive/My Drive/ME',\n",
              " 'drive/My Drive/雜物&以前',\n",
              " 'drive/My Drive/Google 相簿',\n",
              " 'drive/My Drive/應資名條.xlsx',\n",
              " 'drive/My Drive/578535_490566760974016_1453996519_n.jpg',\n",
              " 'drive/My Drive/蜀山飄渺錄 享駿.png',\n",
              " 'drive/My Drive/大學相片',\n",
              " 'drive/My Drive/Win10一鍵破解程式',\n",
              " 'drive/My Drive/B10314025李享駿_企業概論期末.pptx',\n",
              " 'drive/My Drive/享駿自我介紹ppt.pptx',\n",
              " 'drive/My Drive/傳說對決_享駿.txt',\n",
              " 'drive/My Drive/利用Google Trends建立以投資人關注為基礎的投資組合策略_研討會格式.docx',\n",
              " 'drive/My Drive/this_message_in_html.html.gdoc',\n",
              " 'drive/My Drive/人臉辨識',\n",
              " 'drive/My Drive/723377_李享駿_人臉辨識-情緒辨認之應用及說明.pptx',\n",
              " 'drive/My Drive/Office_Professional_Plus_2013_64bit_ChnTrad.ISO',\n",
              " 'drive/My Drive/Python人臉辨識-表情&年齡+性別',\n",
              " 'drive/My Drive/台灣微軟未來生涯體驗計畫報名系統.pdf',\n",
              " 'drive/My Drive/我的履歷表',\n",
              " 'drive/My Drive/人在旅途_享駿英文自我介紹.ppt',\n",
              " 'drive/My Drive/享駿論文',\n",
              " 'drive/My Drive/享駿初稿PPT.pptx',\n",
              " 'drive/My Drive/Building growth and value hybrid valuation model with errors in variables regression 的翻譯版本.gdoc',\n",
              " 'drive/My Drive/Case Study - 1 - 107428033李享駿.docx',\n",
              " 'drive/My Drive/73038_Case Study - Old Line Foreman - 107428034周祐禾.docx',\n",
              " 'drive/My Drive/1801.01777 的翻譯版本 (1).gdoc',\n",
              " 'drive/My Drive/人工智能平台',\n",
              " 'drive/My Drive/Colab Notebooks',\n",
              " 'drive/My Drive/A Machine Learning-based Recommendation 的翻譯版本.gdoc',\n",
              " 'drive/My Drive/1801.01777 的翻譯版本.gdoc',\n",
              " 'drive/My Drive/利用人工智能對股市做出預測 的翻譯版本.gdoc',\n",
              " 'drive/My Drive/初試_享駿',\n",
              " 'drive/My Drive/思如',\n",
              " 'drive/My Drive/論文_享駿',\n",
              " 'drive/My Drive/Build School 202005台北班參訓切結書-大學生免課金-0517.gdoc',\n",
              " 'drive/My Drive/Build School 202005台北班參訓切結書-大學生免課金-0517.docx',\n",
              " 'drive/My Drive/1-s2.0-S1877050919319933-main 的翻譯版本.gdoc',\n",
              " 'drive/My Drive/口試',\n",
              " 'drive/My Drive/離校',\n",
              " 'drive/My Drive/無標題的地圖.gmap',\n",
              " 'drive/My Drive/2712888_HW4.gdoc',\n",
              " 'drive/My Drive/2731487_0908HW.gdoc',\n",
              " 'drive/My Drive/chinese_news_test.zip',\n",
              " 'drive/My Drive/chinese_news_trans.zip']"
            ]
          },
          "metadata": {
            "tags": []
          },
          "execution_count": 35
        }
      ]
    },
    {
      "cell_type": "code",
      "metadata": {
        "id": "BfG0t0LjyZpL"
      },
      "source": [
        "#在雲端硬碟做解壓縮\n",
        "import zipfile\n",
        "path = \"drive/My Drive/chinese_news_test.zip\"\n",
        "f = zipfile.ZipFile(path)\n",
        "f.extractall()\n",
        "path = \"drive/My Drive/chinese_news_trans.zip\"\n",
        "f = zipfile.ZipFile(path)\n",
        "f.extractall()"
      ],
      "execution_count": 36,
      "outputs": []
    },
    {
      "cell_type": "code",
      "metadata": {
        "id": "z9eLr_7Rzb_N",
        "outputId": "59fa5886-3fdb-4de2-c8fd-e2d5ff5c7dd8",
        "colab": {
          "base_uri": "https://localhost:8080/"
        }
      },
      "source": [
        "#查看資料夾\n",
        "import glob\n",
        "glob.glob(\"chinese_news_trans/*\")"
      ],
      "execution_count": 37,
      "outputs": [
        {
          "output_type": "execute_result",
          "data": {
            "text/plain": [
              "['chinese_news_trans/環境',\n",
              " 'chinese_news_trans/體育',\n",
              " 'chinese_news_trans/交通',\n",
              " 'chinese_news_trans/醫藥',\n",
              " 'chinese_news_trans/軍事',\n",
              " 'chinese_news_trans/藝術',\n",
              " 'chinese_news_trans/計算機',\n",
              " 'chinese_news_trans/教育',\n",
              " 'chinese_news_trans/政治',\n",
              " 'chinese_news_trans/經濟']"
            ]
          },
          "metadata": {
            "tags": []
          },
          "execution_count": 37
        }
      ]
    },
    {
      "cell_type": "code",
      "metadata": {
        "id": "OfgFX3utztyv",
        "outputId": "52e7ab83-ef3a-4179-987d-e253124d45af",
        "colab": {
          "base_uri": "https://localhost:8080/",
          "height": 419
        }
      },
      "source": [
        "import os\n",
        "import glob\n",
        "import pandas as pd\n",
        "\n",
        "def read_data(base):\n",
        "  contents, targets = [], []\n",
        "  basedn = os.path.join(base, \"*\")\n",
        "  for dn in glob.glob(basedn):\n",
        "    upper = os.path.join(dn, \"*.TXT\")\n",
        "    lower = os.path.join(dn, \"*.txt\")\n",
        "    for fn in glob.glob(upper) + glob.glob(lower):\n",
        "      with open(fn, \"r\", encoding=\"utf=8\") as f:\n",
        "        contents.append(f.read())\n",
        "      target = os.path.split(dn)[-1]\n",
        "      targets.append(target)\n",
        "  df = pd.DataFrame({\n",
        "      \"content\":contents,\n",
        "      \"target\":targets\n",
        "  })\n",
        "  return df\n",
        "\n",
        "train_df = read_data(\"chinese_news_trans\")\n",
        "test_df = read_data(\"chinese_news_test\")\n",
        "test_df"
      ],
      "execution_count": 38,
      "outputs": [
        {
          "output_type": "execute_result",
          "data": {
            "text/html": [
              "<div>\n",
              "<style scoped>\n",
              "    .dataframe tbody tr th:only-of-type {\n",
              "        vertical-align: middle;\n",
              "    }\n",
              "\n",
              "    .dataframe tbody tr th {\n",
              "        vertical-align: top;\n",
              "    }\n",
              "\n",
              "    .dataframe thead th {\n",
              "        text-align: right;\n",
              "    }\n",
              "</style>\n",
              "<table border=\"1\" class=\"dataframe\">\n",
              "  <thead>\n",
              "    <tr style=\"text-align: right;\">\n",
              "      <th></th>\n",
              "      <th>content</th>\n",
              "      <th>target</th>\n",
              "    </tr>\n",
              "  </thead>\n",
              "  <tbody>\n",
              "    <tr>\n",
              "      <th>0</th>\n",
              "      <td>日月光華 -- FDU_E.S.E.精華區文章閱讀\\n-------------------...</td>\n",
              "      <td>環境</td>\n",
              "    </tr>\n",
              "    <tr>\n",
              "      <th>1</th>\n",
              "      <td>日月光華 -- FDU_E.S.E.精華區文章閱讀\\n-------------------...</td>\n",
              "      <td>環境</td>\n",
              "    </tr>\n",
              "    <tr>\n",
              "      <th>2</th>\n",
              "      <td>日月光華 -- FDU_E.S.E.精華區文章閱讀\\n-------------------...</td>\n",
              "      <td>環境</td>\n",
              "    </tr>\n",
              "    <tr>\n",
              "      <th>3</th>\n",
              "      <td>日月光華 -- FDU_E.S.E.精華區文章閱讀\\n-------------------...</td>\n",
              "      <td>環境</td>\n",
              "    </tr>\n",
              "    <tr>\n",
              "      <th>4</th>\n",
              "      <td>日月光華 -- FDU_E.S.E.精華區文章閱讀\\n-------------------...</td>\n",
              "      <td>環境</td>\n",
              "    </tr>\n",
              "    <tr>\n",
              "      <th>...</th>\n",
              "      <td>...</td>\n",
              "      <td>...</td>\n",
              "    </tr>\n",
              "    <tr>\n",
              "      <th>96</th>\n",
              "      <td>日月光華 -- Economics精華區文章閱讀\\n--------------------...</td>\n",
              "      <td>經濟</td>\n",
              "    </tr>\n",
              "    <tr>\n",
              "      <th>97</th>\n",
              "      <td>日月光華 -- Economics精華區文章閱讀\\n--------------------...</td>\n",
              "      <td>經濟</td>\n",
              "    </tr>\n",
              "    <tr>\n",
              "      <th>98</th>\n",
              "      <td>日月光華 -- Economics精華區文章閱讀\\n--------------------...</td>\n",
              "      <td>經濟</td>\n",
              "    </tr>\n",
              "    <tr>\n",
              "      <th>99</th>\n",
              "      <td>日月光華 -- Economics精華區文章閱讀\\n--------------------...</td>\n",
              "      <td>經濟</td>\n",
              "    </tr>\n",
              "    <tr>\n",
              "      <th>100</th>\n",
              "      <td>日月光華 -- Economics精華區文章閱讀\\n--------------------...</td>\n",
              "      <td>經濟</td>\n",
              "    </tr>\n",
              "  </tbody>\n",
              "</table>\n",
              "<p>101 rows × 2 columns</p>\n",
              "</div>"
            ],
            "text/plain": [
              "                                               content target\n",
              "0    日月光華 -- FDU_E.S.E.精華區文章閱讀\\n-------------------...     環境\n",
              "1    日月光華 -- FDU_E.S.E.精華區文章閱讀\\n-------------------...     環境\n",
              "2    日月光華 -- FDU_E.S.E.精華區文章閱讀\\n-------------------...     環境\n",
              "3    日月光華 -- FDU_E.S.E.精華區文章閱讀\\n-------------------...     環境\n",
              "4    日月光華 -- FDU_E.S.E.精華區文章閱讀\\n-------------------...     環境\n",
              "..                                                 ...    ...\n",
              "96   日月光華 -- Economics精華區文章閱讀\\n--------------------...     經濟\n",
              "97   日月光華 -- Economics精華區文章閱讀\\n--------------------...     經濟\n",
              "98   日月光華 -- Economics精華區文章閱讀\\n--------------------...     經濟\n",
              "99   日月光華 -- Economics精華區文章閱讀\\n--------------------...     經濟\n",
              "100  日月光華 -- Economics精華區文章閱讀\\n--------------------...     經濟\n",
              "\n",
              "[101 rows x 2 columns]"
            ]
          },
          "metadata": {
            "tags": []
          },
          "execution_count": 38
        }
      ]
    },
    {
      "cell_type": "code",
      "metadata": {
        "id": "KlTJbSB4C2Yp",
        "outputId": "04c2fc5e-6b98-411c-c586-46a6aa457bfe",
        "colab": {
          "base_uri": "https://localhost:8080/"
        }
      },
      "source": [
        "# Series.replace({\"李白\":0})\n",
        "# unique/value_counts\n",
        "cat = train_df[\"target\"].unique()\n",
        "trans = {w:i for i, w in enumerate(cat)}\n",
        "trans_r = {i:w for i, w in enumerate(cat)}\n",
        "y_train = train_df[\"target\"].replace(trans)\n",
        "y_test = test_df[\"target\"].replace(trans)\n",
        "y_test"
      ],
      "execution_count": 39,
      "outputs": [
        {
          "output_type": "execute_result",
          "data": {
            "text/plain": [
              "0      0\n",
              "1      0\n",
              "2      0\n",
              "3      0\n",
              "4      0\n",
              "      ..\n",
              "96     9\n",
              "97     9\n",
              "98     9\n",
              "99     9\n",
              "100    9\n",
              "Name: target, Length: 101, dtype: int64"
            ]
          },
          "metadata": {
            "tags": []
          },
          "execution_count": 39
        }
      ]
    },
    {
      "cell_type": "code",
      "metadata": {
        "id": "grK2AHPYDIjX",
        "outputId": "257300c4-98a8-4537-bef1-92ca47c251f6",
        "colab": {
          "base_uri": "https://localhost:8080/"
        }
      },
      "source": [
        "import jieba\n",
        "from urllib.request import urlretrieve\n",
        "url = \"https://github.com/fxsjy/jieba/raw/master/extra_dict/dict.txt.big\"\n",
        "urlretrieve(url, \"dict.txt.big\")\n",
        "jieba.set_dictionary(\"dict.txt.big\")\n",
        "# apply(函式名字)\n",
        "def newscut(p):\n",
        "    return \" \".join(jieba.cut(p))\n",
        "x_train = train_df[\"content\"].apply(newscut)\n",
        "x_test = test_df[\"content\"].apply(newscut)\n",
        "x_test"
      ],
      "execution_count": 40,
      "outputs": [
        {
          "output_type": "stream",
          "text": [
            "Building prefix dict from /content/dict.txt.big ...\n",
            "Dumping model to file cache /tmp/jieba.u501edca284da514cb68b53a20324f4e3.cache\n",
            "Loading model cost 1.535 seconds.\n",
            "Prefix dict has been built successfully.\n"
          ],
          "name": "stderr"
        },
        {
          "output_type": "execute_result",
          "data": {
            "text/plain": [
              "0      日月 光華   --   FDU _ E . S . E . 精華區 文章 閱讀 \\n --...\n",
              "1      日月 光華   --   FDU _ E . S . E . 精華區 文章 閱讀 \\n --...\n",
              "2      日月 光華   --   FDU _ E . S . E . 精華區 文章 閱讀 \\n --...\n",
              "3      日月 光華   --   FDU _ E . S . E . 精華區 文章 閱讀 \\n --...\n",
              "4      日月 光華   --   FDU _ E . S . E . 精華區 文章 閱讀 \\n --...\n",
              "                             ...                        \n",
              "96     日月 光華   --   Economics 精華區 文章 閱讀 \\n ----------...\n",
              "97     日月 光華   --   Economics 精華區 文章 閱讀 \\n ----------...\n",
              "98     日月 光華   --   Economics 精華區 文章 閱讀 \\n ----------...\n",
              "99     日月 光華   --   Economics 精華區 文章 閱讀 \\n ----------...\n",
              "100    日月 光華   --   Economics 精華區 文章 閱讀 \\n ----------...\n",
              "Name: content, Length: 101, dtype: object"
            ]
          },
          "metadata": {
            "tags": []
          },
          "execution_count": 40
        }
      ]
    },
    {
      "cell_type": "code",
      "metadata": {
        "id": "GLXwTvHODoM8"
      },
      "source": [
        "from sklearn.feature_extraction.text import CountVectorizer\n",
        "vec = CountVectorizer()\n",
        "x_train_count = vec.fit_transform(x_train)\n",
        "x_test_count = vec.transform(x_test)"
      ],
      "execution_count": 41,
      "outputs": []
    },
    {
      "cell_type": "code",
      "metadata": {
        "id": "IIwaguSeDras",
        "outputId": "3acbe5b1-50db-4ed6-8dd0-d72a6f178776",
        "colab": {
          "base_uri": "https://localhost:8080/"
        }
      },
      "source": [
        "from sklearn.naive_bayes import MultinomialNB\n",
        "clf = MultinomialNB(alpha=0.01)\n",
        "clf.fit(x_train_count, y_train)"
      ],
      "execution_count": 42,
      "outputs": [
        {
          "output_type": "execute_result",
          "data": {
            "text/plain": [
              "MultinomialNB(alpha=0.01, class_prior=None, fit_prior=True)"
            ]
          },
          "metadata": {
            "tags": []
          },
          "execution_count": 42
        }
      ]
    },
    {
      "cell_type": "code",
      "metadata": {
        "id": "JTl1VQEVDuZk",
        "outputId": "c37f307e-642e-47fb-df0e-40355b129120",
        "colab": {
          "base_uri": "https://localhost:8080/"
        }
      },
      "source": [
        "from sklearn.metrics import accuracy_score\n",
        "pre = clf.predict(x_test_count)\n",
        "accuracy_score(pre, y_test)"
      ],
      "execution_count": 43,
      "outputs": [
        {
          "output_type": "execute_result",
          "data": {
            "text/plain": [
              "1.0"
            ]
          },
          "metadata": {
            "tags": []
          },
          "execution_count": 43
        }
      ]
    },
    {
      "cell_type": "code",
      "metadata": {
        "id": "HljRvWw8Dw5L",
        "outputId": "77de60f2-4a9b-42cb-ffe5-a2224ad45455",
        "colab": {
          "base_uri": "https://localhost:8080/"
        }
      },
      "source": [
        "p = input(\"輸入一首新聞:\")\n",
        "x_predict = vec.transform([newscut(p)])\n",
        "proba = clf.predict_proba(x_predict)[0]\n",
        "for w, p in zip(cat, proba):\n",
        "    print(w, \":\", round(p, 4))"
      ],
      "execution_count": 44,
      "outputs": [
        {
          "output_type": "stream",
          "text": [
            "輸入一首新聞:李登輝奉安禮拜今早舉行 8:20移靈車隊自翠山莊出發     前總統李登輝「奉安典禮」7日在五指山軍人公墓舉行，移靈車隊在憲兵機車隊前導下前往典禮會場。（記者羅沛德攝） 前總統李登輝「奉安典禮」7日在五指山軍人公墓舉行，移靈車隊在憲兵機車隊前導下前往典禮會場。（記者羅沛德攝）  2020/10/07 08:32 首次上稿 06:54 更新時間 08:32  〔即時新聞／綜合報導〕已故前總統李登輝奉安禮拜今天舉行，移靈車隊上午8時20分自翠山莊出發，9時20分抵達五指山國軍示範公墓，將長眠五指山軍人公墓特勳區，總統蔡英文將率副總統賴清德等陪禮者迎靈，全國公務機關也將下半旗一天。  李登輝7月30日辭世、享耆壽98歲，8月14日進行入殮火化禮拜後，9月19日在真理大學大禮拜堂舉行追思告別禮拜，今天舉行奉安禮拜，全國公務機關下半旗一天。奉安禮拜將僅有李前總統家屬參加，不另邀請貴賓，亦不對外開放民眾參加。  前總統李登輝的孫女婿趙贊凱及孫女李坤儀今天上午8時20分捧著遺像及骨灰離開翠山莊，移靈車隊在憲兵機車隊前導下前往五指山國軍示範公墓會場。  奉安禮拜儀式分為移靈、迎靈、禮拜及奉安禮等四部分。移靈車隊8時20分自翠山莊出發，預計9時20分抵達五指山國軍示範公墓後，由總統蔡英文率副總統賴清德、總統府秘書長李大維、總統府副秘書長李俊俋、內政部長徐國勇、國防部長嚴德發，以及國防部相關將領等陪禮者迎靈。  移靈車隊自翠山莊出發，沿途經台北市中社路一段、至善路二段、一段、福林路、中山北路、新生高架下民族東路匝道、民族東路、上國道一號松江匝道、下汐止交流道、新北市汐萬路一段、二段、三段、五指山產業道路、忠孝路、園區道路，抵達五指山國軍示範公墓。警方提醒用路人注意相關管制訊息，並預先規劃交通動線或改道行駛。  隨後，蔡總統、賴副總統並將進行禮敬儀式，禮敬結束後，由台灣基督長老教會舉行禮拜，禮拜程序後行奉安禮，國防部並鳴葬槍3響，表達對李前總統之崇敬與追思，李前總統將長眠五指山國軍示範公墓特勳區。奉安禮拜整體儀式預計於10時20分結束，全程歷時約2小時。  相關交通管制如下： 一、全線管制（除居民、大眾運輸與必要通行者）：10月7日（三）上午06:00至12:00，皆就新北市汐萬路三段、長青路（老爺山莊拱門前路口至五指山國軍示範公墓入口處）、萬溪產業道路（風櫃嘴至五指山國軍示範公墓入口處）進行「全線管制」。  二、彈性管制：10月7日（三）上午06:00至12:00，皆就新北市汐止區汐萬路一段、汐萬二段（含周邊道路100公尺範圍）、長青路（台北市內湖入轄處至老爺山莊拱門前路口止），全線將進行「彈性管制」。    李前總統登輝先生奉安禮拜移靈車隊7日上午8時20分自翠山莊離開長居的外雙溪。（記者鹿俊為攝） 李前總統登輝先生奉安禮拜移靈車隊7日上午8時20分自翠山莊離開長居的外雙溪。（記者鹿俊為攝）  前總統李登輝的孫女婿趙贊凱及孫女李坤儀捧著遺像及骨灰離開翠山莊。（記者朱沛雄攝） 前總統李登輝的孫女婿趙贊凱及孫女李坤儀捧著遺像及骨灰離開翠山莊。（記者朱沛雄攝）  「奉安典禮」禮兵帶著褒揚令及國旗離開翠山莊。（記者朱沛雄攝） 「奉安典禮」禮兵帶著褒揚令及國旗離開翠山莊。（記者朱沛雄攝）  前總統李登輝移靈車隊路線。（圖擷取自總統府） 前總統李登輝移靈車隊路線。（圖擷取自總統府）  相關交通管制。（圖擷取自總統府） 相關交通管制。（圖擷取自總統府）  不用抽 不用搶 現在用APP看新聞\n",
            "環境 : 0.0\n",
            "體育 : 0.0\n",
            "交通 : 0.0\n",
            "醫藥 : 0.0\n",
            "軍事 : 1.0\n",
            "藝術 : 0.0\n",
            "計算機 : 0.0\n",
            "教育 : 0.0\n",
            "政治 : 0.0\n",
            "經濟 : 0.0\n"
          ],
          "name": "stdout"
        }
      ]
    },
    {
      "cell_type": "code",
      "metadata": {
        "id": "7nOOMbsCDzSL"
      },
      "source": [
        ""
      ],
      "execution_count": 44,
      "outputs": []
    }
  ]
}