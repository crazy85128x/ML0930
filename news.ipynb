{
  "nbformat": 4,
  "nbformat_minor": 0,
  "metadata": {
    "colab": {
      "name": "news.ipynb",
      "provenance": [],
      "mount_file_id": "12JoHwDh9tw8laGnKgY-Rc_ltVeelCadN",
      "authorship_tag": "ABX9TyNhTR1TK7/URrqXwDppzelW",
      "include_colab_link": true
    },
    "kernelspec": {
      "name": "python3",
      "display_name": "Python 3"
    }
  },
  "cells": [
    {
      "cell_type": "markdown",
      "metadata": {
        "id": "view-in-github",
        "colab_type": "text"
      },
      "source": [
        "<a href=\"https://colab.research.google.com/github/crazy85128x/ML0930/blob/master/news.ipynb\" target=\"_parent\"><img src=\"https://colab.research.google.com/assets/colab-badge.svg\" alt=\"Open In Colab\"/></a>"
      ]
    },
    {
      "cell_type": "code",
      "metadata": {
        "id": "Bba3pTUcw5NK",
        "outputId": "ce923331-d025-4d3c-c416-2bf2d39c385f",
        "colab": {
          "base_uri": "https://localhost:8080/"
        }
      },
      "source": [
        "import glob\n",
        "glob.glob(\"drive/My Drive/*\")"
      ],
      "execution_count": 3,
      "outputs": [
        {
          "output_type": "execute_result",
          "data": {
            "text/plain": [
              "['drive/My Drive/ME',\n",
              " 'drive/My Drive/雜物&以前',\n",
              " 'drive/My Drive/Google 相簿',\n",
              " 'drive/My Drive/應資名條.xlsx',\n",
              " 'drive/My Drive/578535_490566760974016_1453996519_n.jpg',\n",
              " 'drive/My Drive/蜀山飄渺錄 享駿.png',\n",
              " 'drive/My Drive/大學相片',\n",
              " 'drive/My Drive/Win10一鍵破解程式',\n",
              " 'drive/My Drive/B10314025李享駿_企業概論期末.pptx',\n",
              " 'drive/My Drive/享駿自我介紹ppt.pptx',\n",
              " 'drive/My Drive/傳說對決_享駿.txt',\n",
              " 'drive/My Drive/利用Google Trends建立以投資人關注為基礎的投資組合策略_研討會格式.docx',\n",
              " 'drive/My Drive/this_message_in_html.html.gdoc',\n",
              " 'drive/My Drive/人臉辨識',\n",
              " 'drive/My Drive/723377_李享駿_人臉辨識-情緒辨認之應用及說明.pptx',\n",
              " 'drive/My Drive/Office_Professional_Plus_2013_64bit_ChnTrad.ISO',\n",
              " 'drive/My Drive/Python人臉辨識-表情&年齡+性別',\n",
              " 'drive/My Drive/台灣微軟未來生涯體驗計畫報名系統.pdf',\n",
              " 'drive/My Drive/我的履歷表',\n",
              " 'drive/My Drive/人在旅途_享駿英文自我介紹.ppt',\n",
              " 'drive/My Drive/享駿論文',\n",
              " 'drive/My Drive/享駿初稿PPT.pptx',\n",
              " 'drive/My Drive/Building growth and value hybrid valuation model with errors in variables regression 的翻譯版本.gdoc',\n",
              " 'drive/My Drive/Case Study - 1 - 107428033李享駿.docx',\n",
              " 'drive/My Drive/73038_Case Study - Old Line Foreman - 107428034周祐禾.docx',\n",
              " 'drive/My Drive/1801.01777 的翻譯版本 (1).gdoc',\n",
              " 'drive/My Drive/人工智能平台',\n",
              " 'drive/My Drive/Colab Notebooks',\n",
              " 'drive/My Drive/A Machine Learning-based Recommendation 的翻譯版本.gdoc',\n",
              " 'drive/My Drive/1801.01777 的翻譯版本.gdoc',\n",
              " 'drive/My Drive/利用人工智能對股市做出預測 的翻譯版本.gdoc',\n",
              " 'drive/My Drive/初試_享駿',\n",
              " 'drive/My Drive/思如',\n",
              " 'drive/My Drive/論文_享駿',\n",
              " 'drive/My Drive/Build School 202005台北班參訓切結書-大學生免課金-0517.gdoc',\n",
              " 'drive/My Drive/Build School 202005台北班參訓切結書-大學生免課金-0517.docx',\n",
              " 'drive/My Drive/1-s2.0-S1877050919319933-main 的翻譯版本.gdoc',\n",
              " 'drive/My Drive/口試',\n",
              " 'drive/My Drive/離校',\n",
              " 'drive/My Drive/無標題的地圖.gmap',\n",
              " 'drive/My Drive/2712888_HW4.gdoc',\n",
              " 'drive/My Drive/2731487_0908HW.gdoc',\n",
              " 'drive/My Drive/chinese_news_test.zip',\n",
              " 'drive/My Drive/chinese_news_trans.zip']"
            ]
          },
          "metadata": {
            "tags": []
          },
          "execution_count": 3
        }
      ]
    },
    {
      "cell_type": "code",
      "metadata": {
        "id": "BfG0t0LjyZpL"
      },
      "source": [
        "#在雲端硬碟做解壓縮\n",
        "import zipfile\n",
        "path = \"drive/My Drive/chinese_news_test.zip\"\n",
        "f = zipfile.ZipFile(path)\n",
        "f.extractall()\n",
        "path = \"drive/My Drive/chinese_news_trans.zip\"\n",
        "f = zipfile.ZipFile(path)\n",
        "f.extractall()"
      ],
      "execution_count": 4,
      "outputs": []
    },
    {
      "cell_type": "code",
      "metadata": {
        "id": "z9eLr_7Rzb_N",
        "outputId": "85cbc1db-0399-4e75-a6d7-cde3990cd1f7",
        "colab": {
          "base_uri": "https://localhost:8080/"
        }
      },
      "source": [
        "#查看資料夾\n",
        "import glob\n",
        "glob.glob(\"chinese_news_trans/*\")"
      ],
      "execution_count": 6,
      "outputs": [
        {
          "output_type": "execute_result",
          "data": {
            "text/plain": [
              "['chinese_news_trans/環境',\n",
              " 'chinese_news_trans/體育',\n",
              " 'chinese_news_trans/交通',\n",
              " 'chinese_news_trans/醫藥',\n",
              " 'chinese_news_trans/軍事',\n",
              " 'chinese_news_trans/藝術',\n",
              " 'chinese_news_trans/計算機',\n",
              " 'chinese_news_trans/教育',\n",
              " 'chinese_news_trans/政治',\n",
              " 'chinese_news_trans/經濟']"
            ]
          },
          "metadata": {
            "tags": []
          },
          "execution_count": 6
        }
      ]
    },
    {
      "cell_type": "code",
      "metadata": {
        "id": "OfgFX3utztyv",
        "outputId": "f1e0b842-627d-4353-b609-c3fde6163cd8",
        "colab": {
          "base_uri": "https://localhost:8080/",
          "height": 359
        }
      },
      "source": [
        "import os\n",
        "import glob\n",
        "import pandas as pd\n",
        "\n",
        "def read_data(base):\n",
        "  contents, taegets = [], []\n",
        "  basedn = os.path.join(base, \"*\")\n",
        "  for dn in glob.glob(basedn):\n",
        "    upper = os.path.join(dn, \"*.TXT\")\n",
        "    lower = os.path.join(dn, \"*.txt\")\n",
        "    for fn in glob.glob(upper) + glob.glob(lower):\n",
        "      with open(fn, \"r\", encoding=\"utf=8\") as f:\n",
        "        contents.append(f.read())\n",
        "      taeget = os.path.split(dn)[-1]\n",
        "      taegets.append(taeget)\n",
        "    df = pd.DataFrame({\n",
        "        \"content\":contents,\n",
        "        \"taeget\":taegets\n",
        "    })\n",
        "    return df\n",
        "train_df = read_data(\"chinese_news_trans\")\n",
        "test_df = read_data(\"chinese_news_test\")\n",
        "test_df"
      ],
      "execution_count": 8,
      "outputs": [
        {
          "output_type": "execute_result",
          "data": {
            "text/html": [
              "<div>\n",
              "<style scoped>\n",
              "    .dataframe tbody tr th:only-of-type {\n",
              "        vertical-align: middle;\n",
              "    }\n",
              "\n",
              "    .dataframe tbody tr th {\n",
              "        vertical-align: top;\n",
              "    }\n",
              "\n",
              "    .dataframe thead th {\n",
              "        text-align: right;\n",
              "    }\n",
              "</style>\n",
              "<table border=\"1\" class=\"dataframe\">\n",
              "  <thead>\n",
              "    <tr style=\"text-align: right;\">\n",
              "      <th></th>\n",
              "      <th>content</th>\n",
              "      <th>taeget</th>\n",
              "    </tr>\n",
              "  </thead>\n",
              "  <tbody>\n",
              "    <tr>\n",
              "      <th>0</th>\n",
              "      <td>日月光華 -- FDU_E.S.E.精華區文章閱讀\\n-------------------...</td>\n",
              "      <td>環境</td>\n",
              "    </tr>\n",
              "    <tr>\n",
              "      <th>1</th>\n",
              "      <td>日月光華 -- FDU_E.S.E.精華區文章閱讀\\n-------------------...</td>\n",
              "      <td>環境</td>\n",
              "    </tr>\n",
              "    <tr>\n",
              "      <th>2</th>\n",
              "      <td>日月光華 -- FDU_E.S.E.精華區文章閱讀\\n-------------------...</td>\n",
              "      <td>環境</td>\n",
              "    </tr>\n",
              "    <tr>\n",
              "      <th>3</th>\n",
              "      <td>日月光華 -- FDU_E.S.E.精華區文章閱讀\\n-------------------...</td>\n",
              "      <td>環境</td>\n",
              "    </tr>\n",
              "    <tr>\n",
              "      <th>4</th>\n",
              "      <td>日月光華 -- FDU_E.S.E.精華區文章閱讀\\n-------------------...</td>\n",
              "      <td>環境</td>\n",
              "    </tr>\n",
              "    <tr>\n",
              "      <th>5</th>\n",
              "      <td>日月光華 -- FDU_E.S.E.精華區文章閱讀\\n-------------------...</td>\n",
              "      <td>環境</td>\n",
              "    </tr>\n",
              "    <tr>\n",
              "      <th>6</th>\n",
              "      <td>日月光華 -- FDU_E.S.E.精華區文章閱讀\\n-------------------...</td>\n",
              "      <td>環境</td>\n",
              "    </tr>\n",
              "    <tr>\n",
              "      <th>7</th>\n",
              "      <td>日月光華 -- FDU_E.S.E.精華區文章閱讀\\n-------------------...</td>\n",
              "      <td>環境</td>\n",
              "    </tr>\n",
              "    <tr>\n",
              "      <th>8</th>\n",
              "      <td>日月光華 -- FDU_E.S.E.精華區文章閱讀\\n-------------------...</td>\n",
              "      <td>環境</td>\n",
              "    </tr>\n",
              "    <tr>\n",
              "      <th>9</th>\n",
              "      <td>日月光華 -- FDU_E.S.E.精華區文章閱讀\\n-------------------...</td>\n",
              "      <td>環境</td>\n",
              "    </tr>\n",
              "  </tbody>\n",
              "</table>\n",
              "</div>"
            ],
            "text/plain": [
              "                                             content taeget\n",
              "0  日月光華 -- FDU_E.S.E.精華區文章閱讀\\n-------------------...     環境\n",
              "1  日月光華 -- FDU_E.S.E.精華區文章閱讀\\n-------------------...     環境\n",
              "2  日月光華 -- FDU_E.S.E.精華區文章閱讀\\n-------------------...     環境\n",
              "3  日月光華 -- FDU_E.S.E.精華區文章閱讀\\n-------------------...     環境\n",
              "4  日月光華 -- FDU_E.S.E.精華區文章閱讀\\n-------------------...     環境\n",
              "5  日月光華 -- FDU_E.S.E.精華區文章閱讀\\n-------------------...     環境\n",
              "6  日月光華 -- FDU_E.S.E.精華區文章閱讀\\n-------------------...     環境\n",
              "7  日月光華 -- FDU_E.S.E.精華區文章閱讀\\n-------------------...     環境\n",
              "8  日月光華 -- FDU_E.S.E.精華區文章閱讀\\n-------------------...     環境\n",
              "9  日月光華 -- FDU_E.S.E.精華區文章閱讀\\n-------------------...     環境"
            ]
          },
          "metadata": {
            "tags": []
          },
          "execution_count": 8
        }
      ]
    }
  ]
}