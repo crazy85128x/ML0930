{
  "nbformat": 4,
  "nbformat_minor": 0,
  "metadata": {
    "colab": {
      "name": "nlp-sentiment.ipynb",
      "provenance": [],
      "authorship_tag": "ABX9TyPuabCWYpyTTSNYnrCNidLq",
      "include_colab_link": true
    },
    "kernelspec": {
      "name": "python3",
      "display_name": "Python 3"
    },
    "accelerator": "GPU"
  },
  "cells": [
    {
      "cell_type": "markdown",
      "metadata": {
        "id": "view-in-github",
        "colab_type": "text"
      },
      "source": [
        "<a href=\"https://colab.research.google.com/github/crazy85128x/ML0930/blob/master/nlp_sentiment.ipynb\" target=\"_parent\"><img src=\"https://colab.research.google.com/assets/colab-badge.svg\" alt=\"Open In Colab\"/></a>"
      ]
    },
    {
      "cell_type": "code",
      "metadata": {
        "id": "VC-FvaDfrMyI",
        "outputId": "36ab3556-8a8d-4e17-940f-a4216798a580",
        "colab": {
          "base_uri": "https://localhost:8080/",
          "height": 51
        }
      },
      "source": [
        "import tensorflow as tf\n",
        "\n",
        "dataset = tf.keras.utils.get_file(\n",
        "    fname=\"aclImdb.tar.gz\", \n",
        "    origin=\"http://ai.stanford.edu/~amaas/data/sentiment/aclImdb_v1.tar.gz\", \n",
        "    extract=True,\n",
        ")"
      ],
      "execution_count": 1,
      "outputs": [
        {
          "output_type": "stream",
          "text": [
            "Downloading data from http://ai.stanford.edu/~amaas/data/sentiment/aclImdb_v1.tar.gz\n",
            "84131840/84125825 [==============================] - 5s 0us/step\n"
          ],
          "name": "stdout"
        }
      ]
    },
    {
      "cell_type": "code",
      "metadata": {
        "id": "kA7iEkQiwa9C",
        "outputId": "cb5efd48-cb5a-44b6-c054-746d71ffd365",
        "colab": {
          "base_uri": "https://localhost:8080/",
          "height": 419
        }
      },
      "source": [
        "import glob\n",
        "# glob.glob(\"/root/.keras/datasets/aclImdb/train/pos/*\")\n",
        "import os\n",
        "import pandas as pd\n",
        "def read(path):\n",
        "    with open(path, \"r\", encoding=\"utf-8\") as f:\n",
        "        content = f.read()\n",
        "    return content\n",
        "\n",
        "def get_data(t):\n",
        "    dn = os.path.dirname(dataset)\n",
        "    pattern = os.path.join(dn, \"aclImdb\", t, \"pos\", \"*.txt\")\n",
        "    pos = glob.glob(pattern)\n",
        "    pattern = os.path.join(dn, \"aclImdb\", t, \"neg\", \"*.txt\")\n",
        "    neg = glob.glob(pattern)\n",
        "    sentiments = [1] * len(pos) + [0] * len(neg)\n",
        "    contents = map(read, pos + neg)\n",
        "    df = pd.DataFrame({\n",
        "        \"contents\":contents,\n",
        "        \"sentiment\":sentiments\n",
        "    })\n",
        "    return df\n",
        "\n",
        "train_df = get_data(\"train\")\n",
        "test_df = get_data(\"test\")\n",
        "test_df"
      ],
      "execution_count": 7,
      "outputs": [
        {
          "output_type": "execute_result",
          "data": {
            "text/html": [
              "<div>\n",
              "<style scoped>\n",
              "    .dataframe tbody tr th:only-of-type {\n",
              "        vertical-align: middle;\n",
              "    }\n",
              "\n",
              "    .dataframe tbody tr th {\n",
              "        vertical-align: top;\n",
              "    }\n",
              "\n",
              "    .dataframe thead th {\n",
              "        text-align: right;\n",
              "    }\n",
              "</style>\n",
              "<table border=\"1\" class=\"dataframe\">\n",
              "  <thead>\n",
              "    <tr style=\"text-align: right;\">\n",
              "      <th></th>\n",
              "      <th>contents</th>\n",
              "      <th>sentiment</th>\n",
              "    </tr>\n",
              "  </thead>\n",
              "  <tbody>\n",
              "    <tr>\n",
              "      <th>0</th>\n",
              "      <td>It kept me on the edge of my seat. True, the s...</td>\n",
              "      <td>1</td>\n",
              "    </tr>\n",
              "    <tr>\n",
              "      <th>1</th>\n",
              "      <td>Born in 1946 I was about eight years old when ...</td>\n",
              "      <td>1</td>\n",
              "    </tr>\n",
              "    <tr>\n",
              "      <th>2</th>\n",
              "      <td>In the 60's Cleveland television audiences cou...</td>\n",
              "      <td>1</td>\n",
              "    </tr>\n",
              "    <tr>\n",
              "      <th>3</th>\n",
              "      <td>I think it is a brilliant show with cool talki...</td>\n",
              "      <td>1</td>\n",
              "    </tr>\n",
              "    <tr>\n",
              "      <th>4</th>\n",
              "      <td>John Wayne's first starring role just blew me ...</td>\n",
              "      <td>1</td>\n",
              "    </tr>\n",
              "    <tr>\n",
              "      <th>...</th>\n",
              "      <td>...</td>\n",
              "      <td>...</td>\n",
              "    </tr>\n",
              "    <tr>\n",
              "      <th>24995</th>\n",
              "      <td>I am not a big fan of the Spielberg/Cruise ver...</td>\n",
              "      <td>0</td>\n",
              "    </tr>\n",
              "    <tr>\n",
              "      <th>24996</th>\n",
              "      <td>The director infuses this film with false dept...</td>\n",
              "      <td>0</td>\n",
              "    </tr>\n",
              "    <tr>\n",
              "      <th>24997</th>\n",
              "      <td>As a flying and war movie buff, this ranks at ...</td>\n",
              "      <td>0</td>\n",
              "    </tr>\n",
              "    <tr>\n",
              "      <th>24998</th>\n",
              "      <td>I rented this movie under the impression that ...</td>\n",
              "      <td>0</td>\n",
              "    </tr>\n",
              "    <tr>\n",
              "      <th>24999</th>\n",
              "      <td>They prove that the cops, when they can't find...</td>\n",
              "      <td>0</td>\n",
              "    </tr>\n",
              "  </tbody>\n",
              "</table>\n",
              "<p>25000 rows × 2 columns</p>\n",
              "</div>"
            ],
            "text/plain": [
              "                                                contents  sentiment\n",
              "0      It kept me on the edge of my seat. True, the s...          1\n",
              "1      Born in 1946 I was about eight years old when ...          1\n",
              "2      In the 60's Cleveland television audiences cou...          1\n",
              "3      I think it is a brilliant show with cool talki...          1\n",
              "4      John Wayne's first starring role just blew me ...          1\n",
              "...                                                  ...        ...\n",
              "24995  I am not a big fan of the Spielberg/Cruise ver...          0\n",
              "24996  The director infuses this film with false dept...          0\n",
              "24997  As a flying and war movie buff, this ranks at ...          0\n",
              "24998  I rented this movie under the impression that ...          0\n",
              "24999  They prove that the cops, when they can't find...          0\n",
              "\n",
              "[25000 rows x 2 columns]"
            ]
          },
          "metadata": {
            "tags": []
          },
          "execution_count": 7
        }
      ]
    }
  ]
}