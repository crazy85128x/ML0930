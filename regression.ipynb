{
  "nbformat": 4,
  "nbformat_minor": 0,
  "metadata": {
    "colab": {
      "name": "regression.ipynb",
      "provenance": [],
      "collapsed_sections": [],
      "authorship_tag": "ABX9TyNtXyfuxyv8Ebfz3O+05L5T",
      "include_colab_link": true
    },
    "kernelspec": {
      "name": "python3",
      "display_name": "Python 3"
    }
  },
  "cells": [
    {
      "cell_type": "markdown",
      "metadata": {
        "id": "view-in-github",
        "colab_type": "text"
      },
      "source": [
        "<a href=\"https://colab.research.google.com/github/crazy85128x/ML0930/blob/master/regression.ipynb\" target=\"_parent\"><img src=\"https://colab.research.google.com/assets/colab-badge.svg\" alt=\"Open In Colab\"/></a>"
      ]
    },
    {
      "cell_type": "markdown",
      "metadata": {
        "id": "pkYY-FWGF89X"
      },
      "source": [
        "CRIM：人均犯罪率\n",
        "\n",
        "ZN：25,000平方英尺以上民用土地的比例\n",
        "\n",
        "INDUS：城镇非零售业商用土地比例\n",
        "\n",
        "CHAS：是否邻近查尔斯河，1是邻近，0是不邻近\n",
        "\n",
        "NOX：一氧化氮浓度（千万分之一）\n",
        "\n",
        "RM：住宅的平均房间数\n",
        "\n",
        "AGE：自住且建于1940年前的房屋比例\n",
        "\n",
        "DIS：到5个波士顿就业中心的加权距离\n",
        "\n",
        "RAD：到高速公路的便捷度指数\n",
        "\n",
        "TAX：每万元的房产税率\n",
        "\n",
        "PTRATIO：城镇学生教师比例\n",
        "\n",
        "B： 1000(Bk − 0.63)2 其中Bk是城镇中黑人比例\n",
        "\n",
        "LSTAT：低收入人群比例\n",
        "\n",
        "ans：自住房中位数价格，单位是千元\n"
      ]
    },
    {
      "cell_type": "code",
      "metadata": {
        "id": "1_RGVKUcfEVR",
        "outputId": "691f715d-cf9d-4837-af46-3b47e0685fc8",
        "colab": {
          "base_uri": "https://localhost:8080/",
          "height": 391
        }
      },
      "source": [
        "import pandas as pd\n",
        "from sklearn.datasets import load_boston\n",
        "pd.options.display.max_rows = 20\n",
        "boston = load_boston()\n",
        "df = pd.DataFrame(boston[\"data\"], columns=boston[\"feature_names\"])\n",
        "df[\"target\"] = boston[\"target\"]\n",
        "df"
      ],
      "execution_count": 18,
      "outputs": [
        {
          "output_type": "execute_result",
          "data": {
            "text/html": [
              "<div>\n",
              "<style scoped>\n",
              "    .dataframe tbody tr th:only-of-type {\n",
              "        vertical-align: middle;\n",
              "    }\n",
              "\n",
              "    .dataframe tbody tr th {\n",
              "        vertical-align: top;\n",
              "    }\n",
              "\n",
              "    .dataframe thead th {\n",
              "        text-align: right;\n",
              "    }\n",
              "</style>\n",
              "<table border=\"1\" class=\"dataframe\">\n",
              "  <thead>\n",
              "    <tr style=\"text-align: right;\">\n",
              "      <th></th>\n",
              "      <th>CRIM</th>\n",
              "      <th>ZN</th>\n",
              "      <th>INDUS</th>\n",
              "      <th>CHAS</th>\n",
              "      <th>NOX</th>\n",
              "      <th>RM</th>\n",
              "      <th>AGE</th>\n",
              "      <th>DIS</th>\n",
              "      <th>RAD</th>\n",
              "      <th>TAX</th>\n",
              "      <th>PTRATIO</th>\n",
              "      <th>B</th>\n",
              "      <th>LSTAT</th>\n",
              "      <th>target</th>\n",
              "    </tr>\n",
              "  </thead>\n",
              "  <tbody>\n",
              "    <tr>\n",
              "      <th>0</th>\n",
              "      <td>0.00632</td>\n",
              "      <td>18.0</td>\n",
              "      <td>2.31</td>\n",
              "      <td>0.0</td>\n",
              "      <td>0.538</td>\n",
              "      <td>6.575</td>\n",
              "      <td>65.2</td>\n",
              "      <td>4.0900</td>\n",
              "      <td>1.0</td>\n",
              "      <td>296.0</td>\n",
              "      <td>15.3</td>\n",
              "      <td>396.90</td>\n",
              "      <td>4.98</td>\n",
              "      <td>24.0</td>\n",
              "    </tr>\n",
              "    <tr>\n",
              "      <th>1</th>\n",
              "      <td>0.02731</td>\n",
              "      <td>0.0</td>\n",
              "      <td>7.07</td>\n",
              "      <td>0.0</td>\n",
              "      <td>0.469</td>\n",
              "      <td>6.421</td>\n",
              "      <td>78.9</td>\n",
              "      <td>4.9671</td>\n",
              "      <td>2.0</td>\n",
              "      <td>242.0</td>\n",
              "      <td>17.8</td>\n",
              "      <td>396.90</td>\n",
              "      <td>9.14</td>\n",
              "      <td>21.6</td>\n",
              "    </tr>\n",
              "    <tr>\n",
              "      <th>2</th>\n",
              "      <td>0.02729</td>\n",
              "      <td>0.0</td>\n",
              "      <td>7.07</td>\n",
              "      <td>0.0</td>\n",
              "      <td>0.469</td>\n",
              "      <td>7.185</td>\n",
              "      <td>61.1</td>\n",
              "      <td>4.9671</td>\n",
              "      <td>2.0</td>\n",
              "      <td>242.0</td>\n",
              "      <td>17.8</td>\n",
              "      <td>392.83</td>\n",
              "      <td>4.03</td>\n",
              "      <td>34.7</td>\n",
              "    </tr>\n",
              "    <tr>\n",
              "      <th>3</th>\n",
              "      <td>0.03237</td>\n",
              "      <td>0.0</td>\n",
              "      <td>2.18</td>\n",
              "      <td>0.0</td>\n",
              "      <td>0.458</td>\n",
              "      <td>6.998</td>\n",
              "      <td>45.8</td>\n",
              "      <td>6.0622</td>\n",
              "      <td>3.0</td>\n",
              "      <td>222.0</td>\n",
              "      <td>18.7</td>\n",
              "      <td>394.63</td>\n",
              "      <td>2.94</td>\n",
              "      <td>33.4</td>\n",
              "    </tr>\n",
              "    <tr>\n",
              "      <th>4</th>\n",
              "      <td>0.06905</td>\n",
              "      <td>0.0</td>\n",
              "      <td>2.18</td>\n",
              "      <td>0.0</td>\n",
              "      <td>0.458</td>\n",
              "      <td>7.147</td>\n",
              "      <td>54.2</td>\n",
              "      <td>6.0622</td>\n",
              "      <td>3.0</td>\n",
              "      <td>222.0</td>\n",
              "      <td>18.7</td>\n",
              "      <td>396.90</td>\n",
              "      <td>5.33</td>\n",
              "      <td>36.2</td>\n",
              "    </tr>\n",
              "    <tr>\n",
              "      <th>...</th>\n",
              "      <td>...</td>\n",
              "      <td>...</td>\n",
              "      <td>...</td>\n",
              "      <td>...</td>\n",
              "      <td>...</td>\n",
              "      <td>...</td>\n",
              "      <td>...</td>\n",
              "      <td>...</td>\n",
              "      <td>...</td>\n",
              "      <td>...</td>\n",
              "      <td>...</td>\n",
              "      <td>...</td>\n",
              "      <td>...</td>\n",
              "      <td>...</td>\n",
              "    </tr>\n",
              "    <tr>\n",
              "      <th>501</th>\n",
              "      <td>0.06263</td>\n",
              "      <td>0.0</td>\n",
              "      <td>11.93</td>\n",
              "      <td>0.0</td>\n",
              "      <td>0.573</td>\n",
              "      <td>6.593</td>\n",
              "      <td>69.1</td>\n",
              "      <td>2.4786</td>\n",
              "      <td>1.0</td>\n",
              "      <td>273.0</td>\n",
              "      <td>21.0</td>\n",
              "      <td>391.99</td>\n",
              "      <td>9.67</td>\n",
              "      <td>22.4</td>\n",
              "    </tr>\n",
              "    <tr>\n",
              "      <th>502</th>\n",
              "      <td>0.04527</td>\n",
              "      <td>0.0</td>\n",
              "      <td>11.93</td>\n",
              "      <td>0.0</td>\n",
              "      <td>0.573</td>\n",
              "      <td>6.120</td>\n",
              "      <td>76.7</td>\n",
              "      <td>2.2875</td>\n",
              "      <td>1.0</td>\n",
              "      <td>273.0</td>\n",
              "      <td>21.0</td>\n",
              "      <td>396.90</td>\n",
              "      <td>9.08</td>\n",
              "      <td>20.6</td>\n",
              "    </tr>\n",
              "    <tr>\n",
              "      <th>503</th>\n",
              "      <td>0.06076</td>\n",
              "      <td>0.0</td>\n",
              "      <td>11.93</td>\n",
              "      <td>0.0</td>\n",
              "      <td>0.573</td>\n",
              "      <td>6.976</td>\n",
              "      <td>91.0</td>\n",
              "      <td>2.1675</td>\n",
              "      <td>1.0</td>\n",
              "      <td>273.0</td>\n",
              "      <td>21.0</td>\n",
              "      <td>396.90</td>\n",
              "      <td>5.64</td>\n",
              "      <td>23.9</td>\n",
              "    </tr>\n",
              "    <tr>\n",
              "      <th>504</th>\n",
              "      <td>0.10959</td>\n",
              "      <td>0.0</td>\n",
              "      <td>11.93</td>\n",
              "      <td>0.0</td>\n",
              "      <td>0.573</td>\n",
              "      <td>6.794</td>\n",
              "      <td>89.3</td>\n",
              "      <td>2.3889</td>\n",
              "      <td>1.0</td>\n",
              "      <td>273.0</td>\n",
              "      <td>21.0</td>\n",
              "      <td>393.45</td>\n",
              "      <td>6.48</td>\n",
              "      <td>22.0</td>\n",
              "    </tr>\n",
              "    <tr>\n",
              "      <th>505</th>\n",
              "      <td>0.04741</td>\n",
              "      <td>0.0</td>\n",
              "      <td>11.93</td>\n",
              "      <td>0.0</td>\n",
              "      <td>0.573</td>\n",
              "      <td>6.030</td>\n",
              "      <td>80.8</td>\n",
              "      <td>2.5050</td>\n",
              "      <td>1.0</td>\n",
              "      <td>273.0</td>\n",
              "      <td>21.0</td>\n",
              "      <td>396.90</td>\n",
              "      <td>7.88</td>\n",
              "      <td>11.9</td>\n",
              "    </tr>\n",
              "  </tbody>\n",
              "</table>\n",
              "<p>506 rows × 14 columns</p>\n",
              "</div>"
            ],
            "text/plain": [
              "        CRIM    ZN  INDUS  CHAS    NOX  ...    TAX  PTRATIO       B  LSTAT  target\n",
              "0    0.00632  18.0   2.31   0.0  0.538  ...  296.0     15.3  396.90   4.98    24.0\n",
              "1    0.02731   0.0   7.07   0.0  0.469  ...  242.0     17.8  396.90   9.14    21.6\n",
              "2    0.02729   0.0   7.07   0.0  0.469  ...  242.0     17.8  392.83   4.03    34.7\n",
              "3    0.03237   0.0   2.18   0.0  0.458  ...  222.0     18.7  394.63   2.94    33.4\n",
              "4    0.06905   0.0   2.18   0.0  0.458  ...  222.0     18.7  396.90   5.33    36.2\n",
              "..       ...   ...    ...   ...    ...  ...    ...      ...     ...    ...     ...\n",
              "501  0.06263   0.0  11.93   0.0  0.573  ...  273.0     21.0  391.99   9.67    22.4\n",
              "502  0.04527   0.0  11.93   0.0  0.573  ...  273.0     21.0  396.90   9.08    20.6\n",
              "503  0.06076   0.0  11.93   0.0  0.573  ...  273.0     21.0  396.90   5.64    23.9\n",
              "504  0.10959   0.0  11.93   0.0  0.573  ...  273.0     21.0  393.45   6.48    22.0\n",
              "505  0.04741   0.0  11.93   0.0  0.573  ...  273.0     21.0  396.90   7.88    11.9\n",
              "\n",
              "[506 rows x 14 columns]"
            ]
          },
          "metadata": {
            "tags": []
          },
          "execution_count": 18
        }
      ]
    },
    {
      "cell_type": "code",
      "metadata": {
        "id": "9U8D4wgMlpTm"
      },
      "source": [
        "# 預處理: pandas/DataFrame\n",
        "# 機器學習: numpy/np.array\n",
        "import numpy as np\n",
        "from sklearn.model_selection import train_test_split\n",
        "x, y = df.drop([\"target\"], axis=1), df[\"target\"]\n",
        "x, y = np.array(x),np.array(y)\n",
        "x_train, x_test, y_train, y_test = train_test_split(x,y,test_size=0.1)"
      ],
      "execution_count": 19,
      "outputs": []
    },
    {
      "cell_type": "code",
      "metadata": {
        "id": "NodAjdD6pCpC",
        "outputId": "6be70413-5e8d-4fdf-c465-acb1d9c9f1c9",
        "colab": {
          "base_uri": "https://localhost:8080/",
          "height": 115
        }
      },
      "source": [
        "from sklearn.tree import DecisionTreeRegressor\n",
        "reg = DecisionTreeRegressor(max_depth=5)\n",
        "reg.fit(x_train, y_train)"
      ],
      "execution_count": 20,
      "outputs": [
        {
          "output_type": "execute_result",
          "data": {
            "text/plain": [
              "DecisionTreeRegressor(ccp_alpha=0.0, criterion='mse', max_depth=5,\n",
              "                      max_features=None, max_leaf_nodes=None,\n",
              "                      min_impurity_decrease=0.0, min_impurity_split=None,\n",
              "                      min_samples_leaf=1, min_samples_split=2,\n",
              "                      min_weight_fraction_leaf=0.0, presort='deprecated',\n",
              "                      random_state=None, splitter='best')"
            ]
          },
          "metadata": {
            "tags": []
          },
          "execution_count": 20
        }
      ]
    },
    {
      "cell_type": "code",
      "metadata": {
        "id": "G94SnAkDrW8v",
        "outputId": "d3be7f00-ce8c-486d-9024-4e0032e48b99",
        "colab": {
          "base_uri": "https://localhost:8080/",
          "height": 815
        }
      },
      "source": [
        "import graphviz\n",
        "from sklearn.tree import export_graphviz\n",
        "g = export_graphviz(reg, \n",
        "           feature_names=boston[\"feature_names\"],\n",
        "           filled=True)\n",
        "graphviz.Source(g)"
      ],
      "execution_count": 21,
      "outputs": [
        {
          "output_type": "execute_result",
          "data": {
            "text/plain": [
              "<graphviz.files.Source at 0x7fc1581194a8>"
            ],
            "image/svg+xml": "<?xml version=\"1.0\" encoding=\"UTF-8\" standalone=\"no\"?>\n<!DOCTYPE svg PUBLIC \"-//W3C//DTD SVG 1.1//EN\"\n \"http://www.w3.org/Graphics/SVG/1.1/DTD/svg11.dtd\">\n<!-- Generated by graphviz version 2.40.1 (20161225.0304)\n -->\n<!-- Title: Tree Pages: 1 -->\n<svg width=\"3241pt\" height=\"581pt\"\n viewBox=\"0.00 0.00 3241.00 581.00\" xmlns=\"http://www.w3.org/2000/svg\" xmlns:xlink=\"http://www.w3.org/1999/xlink\">\n<g id=\"graph0\" class=\"graph\" transform=\"scale(1 1) rotate(0) translate(4 577)\">\n<title>Tree</title>\n<polygon fill=\"#ffffff\" stroke=\"transparent\" points=\"-4,4 -4,-577 3237,-577 3237,4 -4,4\"/>\n<!-- 0 -->\n<g id=\"node1\" class=\"node\">\n<title>0</title>\n<polygon fill=\"#f6d5bd\" stroke=\"#000000\" points=\"1362.5,-573 1244.5,-573 1244.5,-505 1362.5,-505 1362.5,-573\"/>\n<text text-anchor=\"middle\" x=\"1303.5\" y=\"-557.8\" font-family=\"Times,serif\" font-size=\"14.00\" fill=\"#000000\">LSTAT &lt;= 9.615</text>\n<text text-anchor=\"middle\" x=\"1303.5\" y=\"-542.8\" font-family=\"Times,serif\" font-size=\"14.00\" fill=\"#000000\">mse = 82.336</text>\n<text text-anchor=\"middle\" x=\"1303.5\" y=\"-527.8\" font-family=\"Times,serif\" font-size=\"14.00\" fill=\"#000000\">samples = 455</text>\n<text text-anchor=\"middle\" x=\"1303.5\" y=\"-512.8\" font-family=\"Times,serif\" font-size=\"14.00\" fill=\"#000000\">value = 22.46</text>\n</g>\n<!-- 1 -->\n<g id=\"node2\" class=\"node\">\n<title>1</title>\n<polygon fill=\"#f2bf9b\" stroke=\"#000000\" points=\"961.5,-469 857.5,-469 857.5,-401 961.5,-401 961.5,-469\"/>\n<text text-anchor=\"middle\" x=\"909.5\" y=\"-453.8\" font-family=\"Times,serif\" font-size=\"14.00\" fill=\"#000000\">RM &lt;= 6.941</text>\n<text text-anchor=\"middle\" x=\"909.5\" y=\"-438.8\" font-family=\"Times,serif\" font-size=\"14.00\" fill=\"#000000\">mse = 78.447</text>\n<text text-anchor=\"middle\" x=\"909.5\" y=\"-423.8\" font-family=\"Times,serif\" font-size=\"14.00\" fill=\"#000000\">samples = 187</text>\n<text text-anchor=\"middle\" x=\"909.5\" y=\"-408.8\" font-family=\"Times,serif\" font-size=\"14.00\" fill=\"#000000\">value = 29.658</text>\n</g>\n<!-- 0&#45;&gt;1 -->\n<g id=\"edge1\" class=\"edge\">\n<title>0&#45;&gt;1</title>\n<path fill=\"none\" stroke=\"#000000\" d=\"M1244.0876,-523.3175C1170.5362,-503.9029 1045.8766,-470.9979 971.2577,-451.3015\"/>\n<polygon fill=\"#000000\" stroke=\"#000000\" points=\"972.081,-447.899 961.5188,-448.7309 970.2944,-454.6672 972.081,-447.899\"/>\n<text text-anchor=\"middle\" x=\"974.0994\" y=\"-466.6348\" font-family=\"Times,serif\" font-size=\"14.00\" fill=\"#000000\">True</text>\n</g>\n<!-- 26 -->\n<g id=\"node27\" class=\"node\">\n<title>26</title>\n<polygon fill=\"#fae5d6\" stroke=\"#000000\" points=\"1883,-469 1758,-469 1758,-401 1883,-401 1883,-469\"/>\n<text text-anchor=\"middle\" x=\"1820.5\" y=\"-453.8\" font-family=\"Times,serif\" font-size=\"14.00\" fill=\"#000000\">LSTAT &lt;= 16.085</text>\n<text text-anchor=\"middle\" x=\"1820.5\" y=\"-438.8\" font-family=\"Times,serif\" font-size=\"14.00\" fill=\"#000000\">mse = 23.663</text>\n<text text-anchor=\"middle\" x=\"1820.5\" y=\"-423.8\" font-family=\"Times,serif\" font-size=\"14.00\" fill=\"#000000\">samples = 268</text>\n<text text-anchor=\"middle\" x=\"1820.5\" y=\"-408.8\" font-family=\"Times,serif\" font-size=\"14.00\" fill=\"#000000\">value = 17.437</text>\n</g>\n<!-- 0&#45;&gt;26 -->\n<g id=\"edge26\" class=\"edge\">\n<title>0&#45;&gt;26</title>\n<path fill=\"none\" stroke=\"#000000\" d=\"M1362.5546,-527.1205C1457.682,-507.9847 1644.5921,-470.3857 1747.7781,-449.6288\"/>\n<polygon fill=\"#000000\" stroke=\"#000000\" points=\"1748.688,-453.0159 1757.8013,-447.6125 1747.3074,-446.1534 1748.688,-453.0159\"/>\n<text text-anchor=\"middle\" x=\"1743.957\" y=\"-464.7292\" font-family=\"Times,serif\" font-size=\"14.00\" fill=\"#000000\">False</text>\n</g>\n<!-- 2 -->\n<g id=\"node3\" class=\"node\">\n<title>2</title>\n<polygon fill=\"#f4ccae\" stroke=\"#000000\" points=\"402.5,-365 298.5,-365 298.5,-297 402.5,-297 402.5,-365\"/>\n<text text-anchor=\"middle\" x=\"350.5\" y=\"-349.8\" font-family=\"Times,serif\" font-size=\"14.00\" fill=\"#000000\">DIS &lt;= 1.485</text>\n<text text-anchor=\"middle\" x=\"350.5\" y=\"-334.8\" font-family=\"Times,serif\" font-size=\"14.00\" fill=\"#000000\">mse = 34.015</text>\n<text text-anchor=\"middle\" x=\"350.5\" y=\"-319.8\" font-family=\"Times,serif\" font-size=\"14.00\" fill=\"#000000\">samples = 129</text>\n<text text-anchor=\"middle\" x=\"350.5\" y=\"-304.8\" font-family=\"Times,serif\" font-size=\"14.00\" fill=\"#000000\">value = 25.595</text>\n</g>\n<!-- 1&#45;&gt;2 -->\n<g id=\"edge2\" class=\"edge\">\n<title>1&#45;&gt;2</title>\n<path fill=\"none\" stroke=\"#000000\" d=\"M857.4126,-425.3093C754.1191,-406.0919 523.7452,-363.2317 412.7022,-342.5725\"/>\n<polygon fill=\"#000000\" stroke=\"#000000\" points=\"413.1303,-339.0922 402.6588,-340.704 411.8499,-345.9741 413.1303,-339.0922\"/>\n</g>\n<!-- 11 -->\n<g id=\"node12\" class=\"node\">\n<title>11</title>\n<polygon fill=\"#eca46f\" stroke=\"#000000\" points=\"961.5,-365 857.5,-365 857.5,-297 961.5,-297 961.5,-365\"/>\n<text text-anchor=\"middle\" x=\"909.5\" y=\"-349.8\" font-family=\"Times,serif\" font-size=\"14.00\" fill=\"#000000\">RM &lt;= 7.437</text>\n<text text-anchor=\"middle\" x=\"909.5\" y=\"-334.8\" font-family=\"Times,serif\" font-size=\"14.00\" fill=\"#000000\">mse = 58.894</text>\n<text text-anchor=\"middle\" x=\"909.5\" y=\"-319.8\" font-family=\"Times,serif\" font-size=\"14.00\" fill=\"#000000\">samples = 58</text>\n<text text-anchor=\"middle\" x=\"909.5\" y=\"-304.8\" font-family=\"Times,serif\" font-size=\"14.00\" fill=\"#000000\">value = 38.695</text>\n</g>\n<!-- 1&#45;&gt;11 -->\n<g id=\"edge11\" class=\"edge\">\n<title>1&#45;&gt;11</title>\n<path fill=\"none\" stroke=\"#000000\" d=\"M909.5,-400.9465C909.5,-392.776 909.5,-383.9318 909.5,-375.3697\"/>\n<polygon fill=\"#000000\" stroke=\"#000000\" points=\"913.0001,-375.13 909.5,-365.13 906.0001,-375.13 913.0001,-375.13\"/>\n</g>\n<!-- 3 -->\n<g id=\"node4\" class=\"node\">\n<title>3</title>\n<polygon fill=\"#e58139\" stroke=\"#000000\" points=\"280,-253.5 191,-253.5 191,-200.5 280,-200.5 280,-253.5\"/>\n<text text-anchor=\"middle\" x=\"235.5\" y=\"-238.3\" font-family=\"Times,serif\" font-size=\"14.00\" fill=\"#000000\">mse = 0.0</text>\n<text text-anchor=\"middle\" x=\"235.5\" y=\"-223.3\" font-family=\"Times,serif\" font-size=\"14.00\" fill=\"#000000\">samples = 4</text>\n<text text-anchor=\"middle\" x=\"235.5\" y=\"-208.3\" font-family=\"Times,serif\" font-size=\"14.00\" fill=\"#000000\">value = 50.0</text>\n</g>\n<!-- 2&#45;&gt;3 -->\n<g id=\"edge3\" class=\"edge\">\n<title>2&#45;&gt;3</title>\n<path fill=\"none\" stroke=\"#000000\" d=\"M312.8447,-296.9465C299.8122,-285.1606 285.2294,-271.9726 272.2689,-260.2519\"/>\n<polygon fill=\"#000000\" stroke=\"#000000\" points=\"274.614,-257.6537 264.8495,-253.5422 269.9188,-262.8456 274.614,-257.6537\"/>\n</g>\n<!-- 4 -->\n<g id=\"node5\" class=\"node\">\n<title>4</title>\n<polygon fill=\"#f5ceb2\" stroke=\"#000000\" points=\"402.5,-261 298.5,-261 298.5,-193 402.5,-193 402.5,-261\"/>\n<text text-anchor=\"middle\" x=\"350.5\" y=\"-245.8\" font-family=\"Times,serif\" font-size=\"14.00\" fill=\"#000000\">RM &lt;= 6.543</text>\n<text text-anchor=\"middle\" x=\"350.5\" y=\"-230.8\" font-family=\"Times,serif\" font-size=\"14.00\" fill=\"#000000\">mse = 15.435</text>\n<text text-anchor=\"middle\" x=\"350.5\" y=\"-215.8\" font-family=\"Times,serif\" font-size=\"14.00\" fill=\"#000000\">samples = 125</text>\n<text text-anchor=\"middle\" x=\"350.5\" y=\"-200.8\" font-family=\"Times,serif\" font-size=\"14.00\" fill=\"#000000\">value = 24.814</text>\n</g>\n<!-- 2&#45;&gt;4 -->\n<g id=\"edge4\" class=\"edge\">\n<title>2&#45;&gt;4</title>\n<path fill=\"none\" stroke=\"#000000\" d=\"M350.5,-296.9465C350.5,-288.776 350.5,-279.9318 350.5,-271.3697\"/>\n<polygon fill=\"#000000\" stroke=\"#000000\" points=\"354.0001,-271.13 350.5,-261.13 347.0001,-271.13 354.0001,-271.13\"/>\n</g>\n<!-- 5 -->\n<g id=\"node6\" class=\"node\">\n<title>5</title>\n<polygon fill=\"#f6d4bb\" stroke=\"#000000\" points=\"219.5,-157 115.5,-157 115.5,-89 219.5,-89 219.5,-157\"/>\n<text text-anchor=\"middle\" x=\"167.5\" y=\"-141.8\" font-family=\"Times,serif\" font-size=\"14.00\" fill=\"#000000\">TAX &lt;= 222.5</text>\n<text text-anchor=\"middle\" x=\"167.5\" y=\"-126.8\" font-family=\"Times,serif\" font-size=\"14.00\" fill=\"#000000\">mse = 9.267</text>\n<text text-anchor=\"middle\" x=\"167.5\" y=\"-111.8\" font-family=\"Times,serif\" font-size=\"14.00\" fill=\"#000000\">samples = 77</text>\n<text text-anchor=\"middle\" x=\"167.5\" y=\"-96.8\" font-family=\"Times,serif\" font-size=\"14.00\" fill=\"#000000\">value = 22.944</text>\n</g>\n<!-- 4&#45;&gt;5 -->\n<g id=\"edge5\" class=\"edge\">\n<title>4&#45;&gt;5</title>\n<path fill=\"none\" stroke=\"#000000\" d=\"M298.0595,-197.1978C276.3345,-184.8513 250.9929,-170.4495 228.4471,-157.6366\"/>\n<polygon fill=\"#000000\" stroke=\"#000000\" points=\"230.055,-154.5247 219.6315,-152.6266 226.5963,-160.6105 230.055,-154.5247\"/>\n</g>\n<!-- 8 -->\n<g id=\"node9\" class=\"node\">\n<title>8</title>\n<polygon fill=\"#f3c5a4\" stroke=\"#000000\" points=\"402.5,-157 298.5,-157 298.5,-89 402.5,-89 402.5,-157\"/>\n<text text-anchor=\"middle\" x=\"350.5\" y=\"-141.8\" font-family=\"Times,serif\" font-size=\"14.00\" fill=\"#000000\">TAX &lt;= 269.0</text>\n<text text-anchor=\"middle\" x=\"350.5\" y=\"-126.8\" font-family=\"Times,serif\" font-size=\"14.00\" fill=\"#000000\">mse = 10.717</text>\n<text text-anchor=\"middle\" x=\"350.5\" y=\"-111.8\" font-family=\"Times,serif\" font-size=\"14.00\" fill=\"#000000\">samples = 48</text>\n<text text-anchor=\"middle\" x=\"350.5\" y=\"-96.8\" font-family=\"Times,serif\" font-size=\"14.00\" fill=\"#000000\">value = 27.815</text>\n</g>\n<!-- 4&#45;&gt;8 -->\n<g id=\"edge8\" class=\"edge\">\n<title>4&#45;&gt;8</title>\n<path fill=\"none\" stroke=\"#000000\" d=\"M350.5,-192.9465C350.5,-184.776 350.5,-175.9318 350.5,-167.3697\"/>\n<polygon fill=\"#000000\" stroke=\"#000000\" points=\"354.0001,-167.13 350.5,-157.13 347.0001,-167.13 354.0001,-167.13\"/>\n</g>\n<!-- 6 -->\n<g id=\"node7\" class=\"node\">\n<title>6</title>\n<polygon fill=\"#f0b78d\" stroke=\"#000000\" points=\"97,-53 0,-53 0,0 97,0 97,-53\"/>\n<text text-anchor=\"middle\" x=\"48.5\" y=\"-37.8\" font-family=\"Times,serif\" font-size=\"14.00\" fill=\"#000000\">mse = 14.062</text>\n<text text-anchor=\"middle\" x=\"48.5\" y=\"-22.8\" font-family=\"Times,serif\" font-size=\"14.00\" fill=\"#000000\">samples = 2</text>\n<text text-anchor=\"middle\" x=\"48.5\" y=\"-7.8\" font-family=\"Times,serif\" font-size=\"14.00\" fill=\"#000000\">value = 32.45</text>\n</g>\n<!-- 5&#45;&gt;6 -->\n<g id=\"edge6\" class=\"edge\">\n<title>5&#45;&gt;6</title>\n<path fill=\"none\" stroke=\"#000000\" d=\"M125.5451,-88.9777C113.8014,-79.4545 101.0562,-69.1191 89.376,-59.6473\"/>\n<polygon fill=\"#000000\" stroke=\"#000000\" points=\"91.4568,-56.8286 81.4852,-53.2485 87.0478,-62.2656 91.4568,-56.8286\"/>\n</g>\n<!-- 7 -->\n<g id=\"node8\" class=\"node\">\n<title>7</title>\n<polygon fill=\"#f6d5bc\" stroke=\"#000000\" points=\"219.5,-53 115.5,-53 115.5,0 219.5,0 219.5,-53\"/>\n<text text-anchor=\"middle\" x=\"167.5\" y=\"-37.8\" font-family=\"Times,serif\" font-size=\"14.00\" fill=\"#000000\">mse = 6.666</text>\n<text text-anchor=\"middle\" x=\"167.5\" y=\"-22.8\" font-family=\"Times,serif\" font-size=\"14.00\" fill=\"#000000\">samples = 75</text>\n<text text-anchor=\"middle\" x=\"167.5\" y=\"-7.8\" font-family=\"Times,serif\" font-size=\"14.00\" fill=\"#000000\">value = 22.691</text>\n</g>\n<!-- 5&#45;&gt;7 -->\n<g id=\"edge7\" class=\"edge\">\n<title>5&#45;&gt;7</title>\n<path fill=\"none\" stroke=\"#000000\" d=\"M167.5,-88.9777C167.5,-80.7364 167.5,-71.887 167.5,-63.5153\"/>\n<polygon fill=\"#000000\" stroke=\"#000000\" points=\"171.0001,-63.2484 167.5,-53.2485 164.0001,-63.2485 171.0001,-63.2484\"/>\n</g>\n<!-- 9 -->\n<g id=\"node10\" class=\"node\">\n<title>9</title>\n<polygon fill=\"#f1bd98\" stroke=\"#000000\" points=\"341.5,-53 237.5,-53 237.5,0 341.5,0 341.5,-53\"/>\n<text text-anchor=\"middle\" x=\"289.5\" y=\"-37.8\" font-family=\"Times,serif\" font-size=\"14.00\" fill=\"#000000\">mse = 5.38</text>\n<text text-anchor=\"middle\" x=\"289.5\" y=\"-22.8\" font-family=\"Times,serif\" font-size=\"14.00\" fill=\"#000000\">samples = 17</text>\n<text text-anchor=\"middle\" x=\"289.5\" y=\"-7.8\" font-family=\"Times,serif\" font-size=\"14.00\" fill=\"#000000\">value = 30.241</text>\n</g>\n<!-- 8&#45;&gt;9 -->\n<g id=\"edge9\" class=\"edge\">\n<title>8&#45;&gt;9</title>\n<path fill=\"none\" stroke=\"#000000\" d=\"M328.9937,-88.9777C323.4369,-80.187 317.4427,-70.7044 311.8441,-61.8477\"/>\n<polygon fill=\"#000000\" stroke=\"#000000\" points=\"314.7101,-59.8312 306.4084,-53.2485 308.7931,-63.5714 314.7101,-59.8312\"/>\n</g>\n<!-- 10 -->\n<g id=\"node11\" class=\"node\">\n<title>10</title>\n<polygon fill=\"#f4c9aa\" stroke=\"#000000\" points=\"463.5,-53 359.5,-53 359.5,0 463.5,0 463.5,-53\"/>\n<text text-anchor=\"middle\" x=\"411.5\" y=\"-37.8\" font-family=\"Times,serif\" font-size=\"14.00\" fill=\"#000000\">mse = 8.644</text>\n<text text-anchor=\"middle\" x=\"411.5\" y=\"-22.8\" font-family=\"Times,serif\" font-size=\"14.00\" fill=\"#000000\">samples = 31</text>\n<text text-anchor=\"middle\" x=\"411.5\" y=\"-7.8\" font-family=\"Times,serif\" font-size=\"14.00\" fill=\"#000000\">value = 26.484</text>\n</g>\n<!-- 8&#45;&gt;10 -->\n<g id=\"edge10\" class=\"edge\">\n<title>8&#45;&gt;10</title>\n<path fill=\"none\" stroke=\"#000000\" d=\"M372.0063,-88.9777C377.5631,-80.187 383.5573,-70.7044 389.1559,-61.8477\"/>\n<polygon fill=\"#000000\" stroke=\"#000000\" points=\"392.2069,-63.5714 394.5916,-53.2485 386.2899,-59.8312 392.2069,-63.5714\"/>\n</g>\n<!-- 12 -->\n<g id=\"node13\" class=\"node\">\n<title>12</title>\n<polygon fill=\"#efb286\" stroke=\"#000000\" points=\"894.5,-261 790.5,-261 790.5,-193 894.5,-193 894.5,-261\"/>\n<text text-anchor=\"middle\" x=\"842.5\" y=\"-245.8\" font-family=\"Times,serif\" font-size=\"14.00\" fill=\"#000000\">DIS &lt;= 1.904</text>\n<text text-anchor=\"middle\" x=\"842.5\" y=\"-230.8\" font-family=\"Times,serif\" font-size=\"14.00\" fill=\"#000000\">mse = 20.778</text>\n<text text-anchor=\"middle\" x=\"842.5\" y=\"-215.8\" font-family=\"Times,serif\" font-size=\"14.00\" fill=\"#000000\">samples = 33</text>\n<text text-anchor=\"middle\" x=\"842.5\" y=\"-200.8\" font-family=\"Times,serif\" font-size=\"14.00\" fill=\"#000000\">value = 33.961</text>\n</g>\n<!-- 11&#45;&gt;12 -->\n<g id=\"edge12\" class=\"edge\">\n<title>11&#45;&gt;12</title>\n<path fill=\"none\" stroke=\"#000000\" d=\"M887.5617,-296.9465C881.951,-288.2373 875.8471,-278.7626 869.9958,-269.6801\"/>\n<polygon fill=\"#000000\" stroke=\"#000000\" points=\"872.8457,-267.641 864.4876,-261.13 866.9611,-271.4321 872.8457,-267.641\"/>\n</g>\n<!-- 19 -->\n<g id=\"node20\" class=\"node\">\n<title>19</title>\n<polygon fill=\"#e89051\" stroke=\"#000000\" points=\"1084,-261 957,-261 957,-193 1084,-193 1084,-261\"/>\n<text text-anchor=\"middle\" x=\"1020.5\" y=\"-245.8\" font-family=\"Times,serif\" font-size=\"14.00\" fill=\"#000000\">PTRATIO &lt;= 18.3</text>\n<text text-anchor=\"middle\" x=\"1020.5\" y=\"-230.8\" font-family=\"Times,serif\" font-size=\"14.00\" fill=\"#000000\">mse = 40.571</text>\n<text text-anchor=\"middle\" x=\"1020.5\" y=\"-215.8\" font-family=\"Times,serif\" font-size=\"14.00\" fill=\"#000000\">samples = 25</text>\n<text text-anchor=\"middle\" x=\"1020.5\" y=\"-200.8\" font-family=\"Times,serif\" font-size=\"14.00\" fill=\"#000000\">value = 44.944</text>\n</g>\n<!-- 11&#45;&gt;19 -->\n<g id=\"edge19\" class=\"edge\">\n<title>11&#45;&gt;19</title>\n<path fill=\"none\" stroke=\"#000000\" d=\"M945.8456,-296.9465C955.7159,-287.6986 966.5075,-277.5876 976.741,-267.9994\"/>\n<polygon fill=\"#000000\" stroke=\"#000000\" points=\"979.1684,-270.5214 984.0728,-261.13 974.3823,-265.4131 979.1684,-270.5214\"/>\n</g>\n<!-- 13 -->\n<g id=\"node14\" class=\"node\">\n<title>13</title>\n<polygon fill=\"#e88e4e\" stroke=\"#000000\" points=\"685.5,-157 581.5,-157 581.5,-89 685.5,-89 685.5,-157\"/>\n<text text-anchor=\"middle\" x=\"633.5\" y=\"-141.8\" font-family=\"Times,serif\" font-size=\"14.00\" fill=\"#000000\">AGE &lt;= 97.45</text>\n<text text-anchor=\"middle\" x=\"633.5\" y=\"-126.8\" font-family=\"Times,serif\" font-size=\"14.00\" fill=\"#000000\">mse = 18.923</text>\n<text text-anchor=\"middle\" x=\"633.5\" y=\"-111.8\" font-family=\"Times,serif\" font-size=\"14.00\" fill=\"#000000\">samples = 2</text>\n<text text-anchor=\"middle\" x=\"633.5\" y=\"-96.8\" font-family=\"Times,serif\" font-size=\"14.00\" fill=\"#000000\">value = 45.65</text>\n</g>\n<!-- 12&#45;&gt;13 -->\n<g id=\"edge13\" class=\"edge\">\n<title>12&#45;&gt;13</title>\n<path fill=\"none\" stroke=\"#000000\" d=\"M790.2996,-201.0247C761.3726,-186.6304 725.2419,-168.6515 694.9562,-153.5811\"/>\n<polygon fill=\"#000000\" stroke=\"#000000\" points=\"696.2714,-150.3262 685.7593,-149.0046 693.1529,-156.5932 696.2714,-150.3262\"/>\n</g>\n<!-- 16 -->\n<g id=\"node17\" class=\"node\">\n<title>16</title>\n<polygon fill=\"#f0b48a\" stroke=\"#000000\" points=\"894.5,-157 790.5,-157 790.5,-89 894.5,-89 894.5,-157\"/>\n<text text-anchor=\"middle\" x=\"842.5\" y=\"-141.8\" font-family=\"Times,serif\" font-size=\"14.00\" fill=\"#000000\">RAD &lt;= 2.5</text>\n<text text-anchor=\"middle\" x=\"842.5\" y=\"-126.8\" font-family=\"Times,serif\" font-size=\"14.00\" fill=\"#000000\">mse = 11.513</text>\n<text text-anchor=\"middle\" x=\"842.5\" y=\"-111.8\" font-family=\"Times,serif\" font-size=\"14.00\" fill=\"#000000\">samples = 31</text>\n<text text-anchor=\"middle\" x=\"842.5\" y=\"-96.8\" font-family=\"Times,serif\" font-size=\"14.00\" fill=\"#000000\">value = 33.206</text>\n</g>\n<!-- 12&#45;&gt;16 -->\n<g id=\"edge16\" class=\"edge\">\n<title>12&#45;&gt;16</title>\n<path fill=\"none\" stroke=\"#000000\" d=\"M842.5,-192.9465C842.5,-184.776 842.5,-175.9318 842.5,-167.3697\"/>\n<polygon fill=\"#000000\" stroke=\"#000000\" points=\"846.0001,-167.13 842.5,-157.13 839.0001,-167.13 846.0001,-167.13\"/>\n</g>\n<!-- 14 -->\n<g id=\"node15\" class=\"node\">\n<title>14</title>\n<polygon fill=\"#ea9c63\" stroke=\"#000000\" points=\"571,-53 482,-53 482,0 571,0 571,-53\"/>\n<text text-anchor=\"middle\" x=\"526.5\" y=\"-37.8\" font-family=\"Times,serif\" font-size=\"14.00\" fill=\"#000000\">mse = 0.0</text>\n<text text-anchor=\"middle\" x=\"526.5\" y=\"-22.8\" font-family=\"Times,serif\" font-size=\"14.00\" fill=\"#000000\">samples = 1</text>\n<text text-anchor=\"middle\" x=\"526.5\" y=\"-7.8\" font-family=\"Times,serif\" font-size=\"14.00\" fill=\"#000000\">value = 41.3</text>\n</g>\n<!-- 13&#45;&gt;14 -->\n<g id=\"edge14\" class=\"edge\">\n<title>13&#45;&gt;14</title>\n<path fill=\"none\" stroke=\"#000000\" d=\"M595.7758,-88.9777C585.4194,-79.6376 574.1969,-69.5163 563.861,-60.1947\"/>\n<polygon fill=\"#000000\" stroke=\"#000000\" points=\"565.9291,-57.3467 556.1589,-53.2485 561.2409,-62.5449 565.9291,-57.3467\"/>\n</g>\n<!-- 15 -->\n<g id=\"node16\" class=\"node\">\n<title>15</title>\n<polygon fill=\"#e58139\" stroke=\"#000000\" points=\"678,-53 589,-53 589,0 678,0 678,-53\"/>\n<text text-anchor=\"middle\" x=\"633.5\" y=\"-37.8\" font-family=\"Times,serif\" font-size=\"14.00\" fill=\"#000000\">mse = 0.0</text>\n<text text-anchor=\"middle\" x=\"633.5\" y=\"-22.8\" font-family=\"Times,serif\" font-size=\"14.00\" fill=\"#000000\">samples = 1</text>\n<text text-anchor=\"middle\" x=\"633.5\" y=\"-7.8\" font-family=\"Times,serif\" font-size=\"14.00\" fill=\"#000000\">value = 50.0</text>\n</g>\n<!-- 13&#45;&gt;15 -->\n<g id=\"edge15\" class=\"edge\">\n<title>13&#45;&gt;15</title>\n<path fill=\"none\" stroke=\"#000000\" d=\"M633.5,-88.9777C633.5,-80.7364 633.5,-71.887 633.5,-63.5153\"/>\n<polygon fill=\"#000000\" stroke=\"#000000\" points=\"637.0001,-63.2484 633.5,-53.2485 630.0001,-63.2485 637.0001,-63.2484\"/>\n</g>\n<!-- 17 -->\n<g id=\"node18\" class=\"node\">\n<title>17</title>\n<polygon fill=\"#f1bd98\" stroke=\"#000000\" points=\"800.5,-53 696.5,-53 696.5,0 800.5,0 800.5,-53\"/>\n<text text-anchor=\"middle\" x=\"748.5\" y=\"-37.8\" font-family=\"Times,serif\" font-size=\"14.00\" fill=\"#000000\">mse = 14.853</text>\n<text text-anchor=\"middle\" x=\"748.5\" y=\"-22.8\" font-family=\"Times,serif\" font-size=\"14.00\" fill=\"#000000\">samples = 9</text>\n<text text-anchor=\"middle\" x=\"748.5\" y=\"-7.8\" font-family=\"Times,serif\" font-size=\"14.00\" fill=\"#000000\">value = 30.278</text>\n</g>\n<!-- 16&#45;&gt;17 -->\n<g id=\"edge17\" class=\"edge\">\n<title>16&#45;&gt;17</title>\n<path fill=\"none\" stroke=\"#000000\" d=\"M809.3591,-88.9777C800.3502,-79.7292 790.5952,-69.7147 781.5891,-60.4691\"/>\n<polygon fill=\"#000000\" stroke=\"#000000\" points=\"784.0404,-57.9696 774.5555,-53.2485 779.0261,-62.8539 784.0404,-57.9696\"/>\n</g>\n<!-- 18 -->\n<g id=\"node19\" class=\"node\">\n<title>18</title>\n<polygon fill=\"#efb184\" stroke=\"#000000\" points=\"922.5,-53 818.5,-53 818.5,0 922.5,0 922.5,-53\"/>\n<text text-anchor=\"middle\" x=\"870.5\" y=\"-37.8\" font-family=\"Times,serif\" font-size=\"14.00\" fill=\"#000000\">mse = 5.202</text>\n<text text-anchor=\"middle\" x=\"870.5\" y=\"-22.8\" font-family=\"Times,serif\" font-size=\"14.00\" fill=\"#000000\">samples = 22</text>\n<text text-anchor=\"middle\" x=\"870.5\" y=\"-7.8\" font-family=\"Times,serif\" font-size=\"14.00\" fill=\"#000000\">value = 34.405</text>\n</g>\n<!-- 16&#45;&gt;18 -->\n<g id=\"edge18\" class=\"edge\">\n<title>16&#45;&gt;18</title>\n<path fill=\"none\" stroke=\"#000000\" d=\"M852.3718,-88.9777C854.8161,-80.5533 857.4449,-71.4934 859.9215,-62.9579\"/>\n<polygon fill=\"#000000\" stroke=\"#000000\" points=\"863.3135,-63.8277 862.7388,-53.2485 856.5907,-61.877 863.3135,-63.8277\"/>\n</g>\n<!-- 20 -->\n<g id=\"node21\" class=\"node\">\n<title>20</title>\n<polygon fill=\"#e78c4a\" stroke=\"#000000\" points=\"1076,-157 965,-157 965,-89 1076,-89 1076,-157\"/>\n<text text-anchor=\"middle\" x=\"1020.5\" y=\"-141.8\" font-family=\"Times,serif\" font-size=\"14.00\" fill=\"#000000\">CRIM &lt;= 0.577</text>\n<text text-anchor=\"middle\" x=\"1020.5\" y=\"-126.8\" font-family=\"Times,serif\" font-size=\"14.00\" fill=\"#000000\">mse = 14.851</text>\n<text text-anchor=\"middle\" x=\"1020.5\" y=\"-111.8\" font-family=\"Times,serif\" font-size=\"14.00\" fill=\"#000000\">samples = 23</text>\n<text text-anchor=\"middle\" x=\"1020.5\" y=\"-96.8\" font-family=\"Times,serif\" font-size=\"14.00\" fill=\"#000000\">value = 46.37</text>\n</g>\n<!-- 19&#45;&gt;20 -->\n<g id=\"edge20\" class=\"edge\">\n<title>19&#45;&gt;20</title>\n<path fill=\"none\" stroke=\"#000000\" d=\"M1020.5,-192.9465C1020.5,-184.776 1020.5,-175.9318 1020.5,-167.3697\"/>\n<polygon fill=\"#000000\" stroke=\"#000000\" points=\"1024.0001,-167.13 1020.5,-157.13 1017.0001,-167.13 1024.0001,-167.13\"/>\n</g>\n<!-- 23 -->\n<g id=\"node24\" class=\"node\">\n<title>23</title>\n<polygon fill=\"#f3c3a0\" stroke=\"#000000\" points=\"1263,-157 1166,-157 1166,-89 1263,-89 1263,-157\"/>\n<text text-anchor=\"middle\" x=\"1214.5\" y=\"-141.8\" font-family=\"Times,serif\" font-size=\"14.00\" fill=\"#000000\">RM &lt;= 8.235</text>\n<text text-anchor=\"middle\" x=\"1214.5\" y=\"-126.8\" font-family=\"Times,serif\" font-size=\"14.00\" fill=\"#000000\">mse = 44.223</text>\n<text text-anchor=\"middle\" x=\"1214.5\" y=\"-111.8\" font-family=\"Times,serif\" font-size=\"14.00\" fill=\"#000000\">samples = 2</text>\n<text text-anchor=\"middle\" x=\"1214.5\" y=\"-96.8\" font-family=\"Times,serif\" font-size=\"14.00\" fill=\"#000000\">value = 28.55</text>\n</g>\n<!-- 19&#45;&gt;23 -->\n<g id=\"edge23\" class=\"edge\">\n<title>19&#45;&gt;23</title>\n<path fill=\"none\" stroke=\"#000000\" d=\"M1084.0229,-192.9465C1107.5337,-180.3428 1134.0352,-166.1358 1156.9822,-153.8343\"/>\n<polygon fill=\"#000000\" stroke=\"#000000\" points=\"1158.7574,-156.8539 1165.9172,-149.0444 1155.45,-150.6845 1158.7574,-156.8539\"/>\n</g>\n<!-- 21 -->\n<g id=\"node22\" class=\"node\">\n<title>21</title>\n<polygon fill=\"#e88f4f\" stroke=\"#000000\" points=\"1044.5,-53 940.5,-53 940.5,0 1044.5,0 1044.5,-53\"/>\n<text text-anchor=\"middle\" x=\"992.5\" y=\"-37.8\" font-family=\"Times,serif\" font-size=\"14.00\" fill=\"#000000\">mse = 14.298</text>\n<text text-anchor=\"middle\" x=\"992.5\" y=\"-22.8\" font-family=\"Times,serif\" font-size=\"14.00\" fill=\"#000000\">samples = 18</text>\n<text text-anchor=\"middle\" x=\"992.5\" y=\"-7.8\" font-family=\"Times,serif\" font-size=\"14.00\" fill=\"#000000\">value = 45.361</text>\n</g>\n<!-- 20&#45;&gt;21 -->\n<g id=\"edge21\" class=\"edge\">\n<title>20&#45;&gt;21</title>\n<path fill=\"none\" stroke=\"#000000\" d=\"M1010.6282,-88.9777C1008.1839,-80.5533 1005.5551,-71.4934 1003.0785,-62.9579\"/>\n<polygon fill=\"#000000\" stroke=\"#000000\" points=\"1006.4093,-61.877 1000.2612,-53.2485 999.6865,-63.8277 1006.4093,-61.877\"/>\n</g>\n<!-- 22 -->\n<g id=\"node23\" class=\"node\">\n<title>22</title>\n<polygon fill=\"#e58139\" stroke=\"#000000\" points=\"1152,-53 1063,-53 1063,0 1152,0 1152,-53\"/>\n<text text-anchor=\"middle\" x=\"1107.5\" y=\"-37.8\" font-family=\"Times,serif\" font-size=\"14.00\" fill=\"#000000\">mse = &#45;0.0</text>\n<text text-anchor=\"middle\" x=\"1107.5\" y=\"-22.8\" font-family=\"Times,serif\" font-size=\"14.00\" fill=\"#000000\">samples = 5</text>\n<text text-anchor=\"middle\" x=\"1107.5\" y=\"-7.8\" font-family=\"Times,serif\" font-size=\"14.00\" fill=\"#000000\">value = 50.0</text>\n</g>\n<!-- 20&#45;&gt;22 -->\n<g id=\"edge22\" class=\"edge\">\n<title>20&#45;&gt;22</title>\n<path fill=\"none\" stroke=\"#000000\" d=\"M1051.1729,-88.9777C1059.4285,-79.8207 1068.3609,-69.9129 1076.6272,-60.744\"/>\n<polygon fill=\"#000000\" stroke=\"#000000\" points=\"1079.2883,-63.0193 1083.3848,-53.2485 1074.0892,-58.3321 1079.2883,-63.0193\"/>\n</g>\n<!-- 24 -->\n<g id=\"node25\" class=\"node\">\n<title>24</title>\n<polygon fill=\"#eeae80\" stroke=\"#000000\" points=\"1259,-53 1170,-53 1170,0 1259,0 1259,-53\"/>\n<text text-anchor=\"middle\" x=\"1214.5\" y=\"-37.8\" font-family=\"Times,serif\" font-size=\"14.00\" fill=\"#000000\">mse = 0.0</text>\n<text text-anchor=\"middle\" x=\"1214.5\" y=\"-22.8\" font-family=\"Times,serif\" font-size=\"14.00\" fill=\"#000000\">samples = 1</text>\n<text text-anchor=\"middle\" x=\"1214.5\" y=\"-7.8\" font-family=\"Times,serif\" font-size=\"14.00\" fill=\"#000000\">value = 35.2</text>\n</g>\n<!-- 23&#45;&gt;24 -->\n<g id=\"edge24\" class=\"edge\">\n<title>23&#45;&gt;24</title>\n<path fill=\"none\" stroke=\"#000000\" d=\"M1214.5,-88.9777C1214.5,-80.7364 1214.5,-71.887 1214.5,-63.5153\"/>\n<polygon fill=\"#000000\" stroke=\"#000000\" points=\"1218.0001,-63.2484 1214.5,-53.2485 1211.0001,-63.2485 1218.0001,-63.2484\"/>\n</g>\n<!-- 25 -->\n<g id=\"node26\" class=\"node\">\n<title>25</title>\n<polygon fill=\"#f7d7c0\" stroke=\"#000000\" points=\"1366,-53 1277,-53 1277,0 1366,0 1366,-53\"/>\n<text text-anchor=\"middle\" x=\"1321.5\" y=\"-37.8\" font-family=\"Times,serif\" font-size=\"14.00\" fill=\"#000000\">mse = &#45;0.0</text>\n<text text-anchor=\"middle\" x=\"1321.5\" y=\"-22.8\" font-family=\"Times,serif\" font-size=\"14.00\" fill=\"#000000\">samples = 1</text>\n<text text-anchor=\"middle\" x=\"1321.5\" y=\"-7.8\" font-family=\"Times,serif\" font-size=\"14.00\" fill=\"#000000\">value = 21.9</text>\n</g>\n<!-- 23&#45;&gt;25 -->\n<g id=\"edge25\" class=\"edge\">\n<title>23&#45;&gt;25</title>\n<path fill=\"none\" stroke=\"#000000\" d=\"M1252.2242,-88.9777C1262.5806,-79.6376 1273.8031,-69.5163 1284.139,-60.1947\"/>\n<polygon fill=\"#000000\" stroke=\"#000000\" points=\"1286.7591,-62.5449 1291.8411,-53.2485 1282.0709,-57.3467 1286.7591,-62.5449\"/>\n</g>\n<!-- 27 -->\n<g id=\"node28\" class=\"node\">\n<title>27</title>\n<polygon fill=\"#f8dcc7\" stroke=\"#000000\" points=\"1872.5,-365 1768.5,-365 1768.5,-297 1872.5,-297 1872.5,-365\"/>\n<text text-anchor=\"middle\" x=\"1820.5\" y=\"-349.8\" font-family=\"Times,serif\" font-size=\"14.00\" fill=\"#000000\">B &lt;= 116.025</text>\n<text text-anchor=\"middle\" x=\"1820.5\" y=\"-334.8\" font-family=\"Times,serif\" font-size=\"14.00\" fill=\"#000000\">mse = 10.054</text>\n<text text-anchor=\"middle\" x=\"1820.5\" y=\"-319.8\" font-family=\"Times,serif\" font-size=\"14.00\" fill=\"#000000\">samples = 139</text>\n<text text-anchor=\"middle\" x=\"1820.5\" y=\"-304.8\" font-family=\"Times,serif\" font-size=\"14.00\" fill=\"#000000\">value = 20.382</text>\n</g>\n<!-- 26&#45;&gt;27 -->\n<g id=\"edge27\" class=\"edge\">\n<title>26&#45;&gt;27</title>\n<path fill=\"none\" stroke=\"#000000\" d=\"M1820.5,-400.9465C1820.5,-392.776 1820.5,-383.9318 1820.5,-375.3697\"/>\n<polygon fill=\"#000000\" stroke=\"#000000\" points=\"1824.0001,-375.13 1820.5,-365.13 1817.0001,-375.13 1824.0001,-375.13\"/>\n</g>\n<!-- 42 -->\n<g id=\"node43\" class=\"node\">\n<title>42</title>\n<polygon fill=\"#fceee5\" stroke=\"#000000\" points=\"2586.5,-365 2480.5,-365 2480.5,-297 2586.5,-297 2586.5,-365\"/>\n<text text-anchor=\"middle\" x=\"2533.5\" y=\"-349.8\" font-family=\"Times,serif\" font-size=\"14.00\" fill=\"#000000\">NOX &lt;= 0.603</text>\n<text text-anchor=\"middle\" x=\"2533.5\" y=\"-334.8\" font-family=\"Times,serif\" font-size=\"14.00\" fill=\"#000000\">mse = 18.911</text>\n<text text-anchor=\"middle\" x=\"2533.5\" y=\"-319.8\" font-family=\"Times,serif\" font-size=\"14.00\" fill=\"#000000\">samples = 129</text>\n<text text-anchor=\"middle\" x=\"2533.5\" y=\"-304.8\" font-family=\"Times,serif\" font-size=\"14.00\" fill=\"#000000\">value = 14.264</text>\n</g>\n<!-- 26&#45;&gt;42 -->\n<g id=\"edge42\" class=\"edge\">\n<title>26&#45;&gt;42</title>\n<path fill=\"none\" stroke=\"#000000\" d=\"M1883.1491,-425.8618C2017.9421,-406.2006 2334.2297,-360.0661 2469.885,-340.2791\"/>\n<polygon fill=\"#000000\" stroke=\"#000000\" points=\"2470.723,-343.6939 2480.1131,-338.7872 2469.7126,-336.7672 2470.723,-343.6939\"/>\n</g>\n<!-- 28 -->\n<g id=\"node29\" class=\"node\">\n<title>28</title>\n<polygon fill=\"#fcefe6\" stroke=\"#000000\" points=\"1762,-261 1651,-261 1651,-193 1762,-193 1762,-261\"/>\n<text text-anchor=\"middle\" x=\"1706.5\" y=\"-245.8\" font-family=\"Times,serif\" font-size=\"14.00\" fill=\"#000000\">CRIM &lt;= 9.346</text>\n<text text-anchor=\"middle\" x=\"1706.5\" y=\"-230.8\" font-family=\"Times,serif\" font-size=\"14.00\" fill=\"#000000\">mse = 8.353</text>\n<text text-anchor=\"middle\" x=\"1706.5\" y=\"-215.8\" font-family=\"Times,serif\" font-size=\"14.00\" fill=\"#000000\">samples = 7</text>\n<text text-anchor=\"middle\" x=\"1706.5\" y=\"-200.8\" font-family=\"Times,serif\" font-size=\"14.00\" fill=\"#000000\">value = 14.014</text>\n</g>\n<!-- 27&#45;&gt;28 -->\n<g id=\"edge28\" class=\"edge\">\n<title>27&#45;&gt;28</title>\n<path fill=\"none\" stroke=\"#000000\" d=\"M1783.1721,-296.9465C1773.035,-287.6986 1761.9517,-277.5876 1751.4417,-267.9994\"/>\n<polygon fill=\"#000000\" stroke=\"#000000\" points=\"1753.6583,-265.284 1743.9117,-261.13 1748.9405,-270.4553 1753.6583,-265.284\"/>\n</g>\n<!-- 35 -->\n<g id=\"node36\" class=\"node\">\n<title>35</title>\n<polygon fill=\"#f7dbc6\" stroke=\"#000000\" points=\"1990.5,-261 1890.5,-261 1890.5,-193 1990.5,-193 1990.5,-261\"/>\n<text text-anchor=\"middle\" x=\"1940.5\" y=\"-245.8\" font-family=\"Times,serif\" font-size=\"14.00\" fill=\"#000000\">RM &lt;= 6.578</text>\n<text text-anchor=\"middle\" x=\"1940.5\" y=\"-230.8\" font-family=\"Times,serif\" font-size=\"14.00\" fill=\"#000000\">mse = 7.88</text>\n<text text-anchor=\"middle\" x=\"1940.5\" y=\"-215.8\" font-family=\"Times,serif\" font-size=\"14.00\" fill=\"#000000\">samples = 132</text>\n<text text-anchor=\"middle\" x=\"1940.5\" y=\"-200.8\" font-family=\"Times,serif\" font-size=\"14.00\" fill=\"#000000\">value = 20.72</text>\n</g>\n<!-- 27&#45;&gt;35 -->\n<g id=\"edge35\" class=\"edge\">\n<title>27&#45;&gt;35</title>\n<path fill=\"none\" stroke=\"#000000\" d=\"M1859.7925,-296.9465C1870.5667,-287.6088 1882.3564,-277.3911 1893.515,-267.7203\"/>\n<polygon fill=\"#000000\" stroke=\"#000000\" points=\"1895.8546,-270.3243 1901.1192,-261.13 1891.2701,-265.0344 1895.8546,-270.3243\"/>\n</g>\n<!-- 29 -->\n<g id=\"node30\" class=\"node\">\n<title>29</title>\n<polygon fill=\"#fae7d9\" stroke=\"#000000\" points=\"1592.5,-157 1486.5,-157 1486.5,-89 1592.5,-89 1592.5,-157\"/>\n<text text-anchor=\"middle\" x=\"1539.5\" y=\"-141.8\" font-family=\"Times,serif\" font-size=\"14.00\" fill=\"#000000\">NOX &lt;= 0.552</text>\n<text text-anchor=\"middle\" x=\"1539.5\" y=\"-126.8\" font-family=\"Times,serif\" font-size=\"14.00\" fill=\"#000000\">mse = 1.722</text>\n<text text-anchor=\"middle\" x=\"1539.5\" y=\"-111.8\" font-family=\"Times,serif\" font-size=\"14.00\" fill=\"#000000\">samples = 3</text>\n<text text-anchor=\"middle\" x=\"1539.5\" y=\"-96.8\" font-family=\"Times,serif\" font-size=\"14.00\" fill=\"#000000\">value = 16.767</text>\n</g>\n<!-- 28&#45;&gt;29 -->\n<g id=\"edge29\" class=\"edge\">\n<title>28&#45;&gt;29</title>\n<path fill=\"none\" stroke=\"#000000\" d=\"M1651.818,-192.9465C1635.6169,-182.8572 1617.7661,-171.7406 1601.1558,-161.3964\"/>\n<polygon fill=\"#000000\" stroke=\"#000000\" points=\"1602.9368,-158.3823 1592.598,-156.067 1599.2363,-164.3243 1602.9368,-158.3823\"/>\n</g>\n<!-- 32 -->\n<g id=\"node33\" class=\"node\">\n<title>32</title>\n<polygon fill=\"#fdf5f0\" stroke=\"#000000\" points=\"1755,-157 1658,-157 1658,-89 1755,-89 1755,-157\"/>\n<text text-anchor=\"middle\" x=\"1706.5\" y=\"-141.8\" font-family=\"Times,serif\" font-size=\"14.00\" fill=\"#000000\">RM &lt;= 5.797</text>\n<text text-anchor=\"middle\" x=\"1706.5\" y=\"-126.8\" font-family=\"Times,serif\" font-size=\"14.00\" fill=\"#000000\">mse = 3.383</text>\n<text text-anchor=\"middle\" x=\"1706.5\" y=\"-111.8\" font-family=\"Times,serif\" font-size=\"14.00\" fill=\"#000000\">samples = 4</text>\n<text text-anchor=\"middle\" x=\"1706.5\" y=\"-96.8\" font-family=\"Times,serif\" font-size=\"14.00\" fill=\"#000000\">value = 11.95</text>\n</g>\n<!-- 28&#45;&gt;32 -->\n<g id=\"edge32\" class=\"edge\">\n<title>28&#45;&gt;32</title>\n<path fill=\"none\" stroke=\"#000000\" d=\"M1706.5,-192.9465C1706.5,-184.776 1706.5,-175.9318 1706.5,-167.3697\"/>\n<polygon fill=\"#000000\" stroke=\"#000000\" points=\"1710.0001,-167.13 1706.5,-157.13 1703.0001,-167.13 1710.0001,-167.13\"/>\n</g>\n<!-- 30 -->\n<g id=\"node31\" class=\"node\">\n<title>30</title>\n<polygon fill=\"#f9e1d0\" stroke=\"#000000\" points=\"1473,-53 1384,-53 1384,0 1473,0 1473,-53\"/>\n<text text-anchor=\"middle\" x=\"1428.5\" y=\"-37.8\" font-family=\"Times,serif\" font-size=\"14.00\" fill=\"#000000\">mse = 0.0</text>\n<text text-anchor=\"middle\" x=\"1428.5\" y=\"-22.8\" font-family=\"Times,serif\" font-size=\"14.00\" fill=\"#000000\">samples = 1</text>\n<text text-anchor=\"middle\" x=\"1428.5\" y=\"-7.8\" font-family=\"Times,serif\" font-size=\"14.00\" fill=\"#000000\">value = 18.6</text>\n</g>\n<!-- 29&#45;&gt;30 -->\n<g id=\"edge30\" class=\"edge\">\n<title>29&#45;&gt;30</title>\n<path fill=\"none\" stroke=\"#000000\" d=\"M1500.3656,-88.9777C1489.5167,-79.546 1477.7516,-69.3178 1466.9426,-59.9208\"/>\n<polygon fill=\"#000000\" stroke=\"#000000\" points=\"1469.1108,-57.1681 1459.2677,-53.2485 1464.5181,-62.4508 1469.1108,-57.1681\"/>\n</g>\n<!-- 31 -->\n<g id=\"node32\" class=\"node\">\n<title>31</title>\n<polygon fill=\"#fbeadd\" stroke=\"#000000\" points=\"1588,-53 1491,-53 1491,0 1588,0 1588,-53\"/>\n<text text-anchor=\"middle\" x=\"1539.5\" y=\"-37.8\" font-family=\"Times,serif\" font-size=\"14.00\" fill=\"#000000\">mse = 0.062</text>\n<text text-anchor=\"middle\" x=\"1539.5\" y=\"-22.8\" font-family=\"Times,serif\" font-size=\"14.00\" fill=\"#000000\">samples = 2</text>\n<text text-anchor=\"middle\" x=\"1539.5\" y=\"-7.8\" font-family=\"Times,serif\" font-size=\"14.00\" fill=\"#000000\">value = 15.85</text>\n</g>\n<!-- 29&#45;&gt;31 -->\n<g id=\"edge31\" class=\"edge\">\n<title>29&#45;&gt;31</title>\n<path fill=\"none\" stroke=\"#000000\" d=\"M1539.5,-88.9777C1539.5,-80.7364 1539.5,-71.887 1539.5,-63.5153\"/>\n<polygon fill=\"#000000\" stroke=\"#000000\" points=\"1543.0001,-63.2484 1539.5,-53.2485 1536.0001,-63.2485 1543.0001,-63.2484\"/>\n</g>\n<!-- 33 -->\n<g id=\"node34\" class=\"node\">\n<title>33</title>\n<polygon fill=\"#fbece1\" stroke=\"#000000\" points=\"1695,-53 1606,-53 1606,0 1695,0 1695,-53\"/>\n<text text-anchor=\"middle\" x=\"1650.5\" y=\"-37.8\" font-family=\"Times,serif\" font-size=\"14.00\" fill=\"#000000\">mse = 0.0</text>\n<text text-anchor=\"middle\" x=\"1650.5\" y=\"-22.8\" font-family=\"Times,serif\" font-size=\"14.00\" fill=\"#000000\">samples = 1</text>\n<text text-anchor=\"middle\" x=\"1650.5\" y=\"-7.8\" font-family=\"Times,serif\" font-size=\"14.00\" fill=\"#000000\">value = 15.0</text>\n</g>\n<!-- 32&#45;&gt;33 -->\n<g id=\"edge33\" class=\"edge\">\n<title>32&#45;&gt;33</title>\n<path fill=\"none\" stroke=\"#000000\" d=\"M1686.7565,-88.9777C1681.7083,-80.2786 1676.2669,-70.9018 1671.1734,-62.1247\"/>\n<polygon fill=\"#000000\" stroke=\"#000000\" points=\"1674.0689,-60.1409 1666.0224,-53.2485 1668.0145,-63.6544 1674.0689,-60.1409\"/>\n</g>\n<!-- 34 -->\n<g id=\"node35\" class=\"node\">\n<title>34</title>\n<polygon fill=\"#fef9f5\" stroke=\"#000000\" points=\"1817.5,-53 1713.5,-53 1713.5,0 1817.5,0 1817.5,-53\"/>\n<text text-anchor=\"middle\" x=\"1765.5\" y=\"-37.8\" font-family=\"Times,serif\" font-size=\"14.00\" fill=\"#000000\">mse = 0.376</text>\n<text text-anchor=\"middle\" x=\"1765.5\" y=\"-22.8\" font-family=\"Times,serif\" font-size=\"14.00\" fill=\"#000000\">samples = 3</text>\n<text text-anchor=\"middle\" x=\"1765.5\" y=\"-7.8\" font-family=\"Times,serif\" font-size=\"14.00\" fill=\"#000000\">value = 10.933</text>\n</g>\n<!-- 32&#45;&gt;34 -->\n<g id=\"edge34\" class=\"edge\">\n<title>32&#45;&gt;34</title>\n<path fill=\"none\" stroke=\"#000000\" d=\"M1727.3012,-88.9777C1732.6758,-80.187 1738.4735,-70.7044 1743.8885,-61.8477\"/>\n<polygon fill=\"#000000\" stroke=\"#000000\" points=\"1746.9158,-63.6059 1749.146,-53.2485 1740.9436,-59.9545 1746.9158,-63.6059\"/>\n</g>\n<!-- 36 -->\n<g id=\"node37\" class=\"node\">\n<title>36</title>\n<polygon fill=\"#f8dbc7\" stroke=\"#000000\" points=\"2007.5,-157 1873.5,-157 1873.5,-89 2007.5,-89 2007.5,-157\"/>\n<text text-anchor=\"middle\" x=\"1940.5\" y=\"-141.8\" font-family=\"Times,serif\" font-size=\"14.00\" fill=\"#000000\">PTRATIO &lt;= 20.95</text>\n<text text-anchor=\"middle\" x=\"1940.5\" y=\"-126.8\" font-family=\"Times,serif\" font-size=\"14.00\" fill=\"#000000\">mse = 5.657</text>\n<text text-anchor=\"middle\" x=\"1940.5\" y=\"-111.8\" font-family=\"Times,serif\" font-size=\"14.00\" fill=\"#000000\">samples = 124</text>\n<text text-anchor=\"middle\" x=\"1940.5\" y=\"-96.8\" font-family=\"Times,serif\" font-size=\"14.00\" fill=\"#000000\">value = 20.464</text>\n</g>\n<!-- 35&#45;&gt;36 -->\n<g id=\"edge36\" class=\"edge\">\n<title>35&#45;&gt;36</title>\n<path fill=\"none\" stroke=\"#000000\" d=\"M1940.5,-192.9465C1940.5,-184.776 1940.5,-175.9318 1940.5,-167.3697\"/>\n<polygon fill=\"#000000\" stroke=\"#000000\" points=\"1944.0001,-167.13 1940.5,-157.13 1937.0001,-167.13 1944.0001,-167.13\"/>\n</g>\n<!-- 39 -->\n<g id=\"node40\" class=\"node\">\n<title>39</title>\n<polygon fill=\"#f5ceb3\" stroke=\"#000000\" points=\"2183.5,-157 2079.5,-157 2079.5,-89 2183.5,-89 2183.5,-157\"/>\n<text text-anchor=\"middle\" x=\"2131.5\" y=\"-141.8\" font-family=\"Times,serif\" font-size=\"14.00\" fill=\"#000000\">AGE &lt;= 86.2</text>\n<text text-anchor=\"middle\" x=\"2131.5\" y=\"-126.8\" font-family=\"Times,serif\" font-size=\"14.00\" fill=\"#000000\">mse = 25.566</text>\n<text text-anchor=\"middle\" x=\"2131.5\" y=\"-111.8\" font-family=\"Times,serif\" font-size=\"14.00\" fill=\"#000000\">samples = 8</text>\n<text text-anchor=\"middle\" x=\"2131.5\" y=\"-96.8\" font-family=\"Times,serif\" font-size=\"14.00\" fill=\"#000000\">value = 24.688</text>\n</g>\n<!-- 35&#45;&gt;39 -->\n<g id=\"edge39\" class=\"edge\">\n<title>35&#45;&gt;39</title>\n<path fill=\"none\" stroke=\"#000000\" d=\"M1990.683,-199.6752C2015.1039,-186.378 2044.6716,-170.2783 2070.3962,-156.2712\"/>\n<polygon fill=\"#000000\" stroke=\"#000000\" points=\"2072.2115,-159.268 2079.3202,-151.412 2068.864,-153.1203 2072.2115,-159.268\"/>\n</g>\n<!-- 37 -->\n<g id=\"node38\" class=\"node\">\n<title>37</title>\n<polygon fill=\"#f7dbc6\" stroke=\"#000000\" points=\"1939.5,-53 1835.5,-53 1835.5,0 1939.5,0 1939.5,-53\"/>\n<text text-anchor=\"middle\" x=\"1887.5\" y=\"-37.8\" font-family=\"Times,serif\" font-size=\"14.00\" fill=\"#000000\">mse = 5.376</text>\n<text text-anchor=\"middle\" x=\"1887.5\" y=\"-22.8\" font-family=\"Times,serif\" font-size=\"14.00\" fill=\"#000000\">samples = 109</text>\n<text text-anchor=\"middle\" x=\"1887.5\" y=\"-7.8\" font-family=\"Times,serif\" font-size=\"14.00\" fill=\"#000000\">value = 20.735</text>\n</g>\n<!-- 36&#45;&gt;37 -->\n<g id=\"edge37\" class=\"edge\">\n<title>36&#45;&gt;37</title>\n<path fill=\"none\" stroke=\"#000000\" d=\"M1921.8142,-88.9777C1917.0364,-80.2786 1911.8865,-70.9018 1907.0659,-62.1247\"/>\n<polygon fill=\"#000000\" stroke=\"#000000\" points=\"1910.0726,-60.3286 1902.1909,-53.2485 1903.9371,-63.6984 1910.0726,-60.3286\"/>\n</g>\n<!-- 38 -->\n<g id=\"node39\" class=\"node\">\n<title>38</title>\n<polygon fill=\"#f9e1d1\" stroke=\"#000000\" points=\"2061.5,-53 1957.5,-53 1957.5,0 2061.5,0 2061.5,-53\"/>\n<text text-anchor=\"middle\" x=\"2009.5\" y=\"-37.8\" font-family=\"Times,serif\" font-size=\"14.00\" fill=\"#000000\">mse = 3.282</text>\n<text text-anchor=\"middle\" x=\"2009.5\" y=\"-22.8\" font-family=\"Times,serif\" font-size=\"14.00\" fill=\"#000000\">samples = 15</text>\n<text text-anchor=\"middle\" x=\"2009.5\" y=\"-7.8\" font-family=\"Times,serif\" font-size=\"14.00\" fill=\"#000000\">value = 18.493</text>\n</g>\n<!-- 36&#45;&gt;38 -->\n<g id=\"edge38\" class=\"edge\">\n<title>36&#45;&gt;38</title>\n<path fill=\"none\" stroke=\"#000000\" d=\"M1964.8268,-88.9777C1971.1779,-80.0954 1978.034,-70.5067 1984.4232,-61.5711\"/>\n<polygon fill=\"#000000\" stroke=\"#000000\" points=\"1987.4048,-63.4187 1990.3741,-53.2485 1981.7107,-59.3472 1987.4048,-63.4187\"/>\n</g>\n<!-- 40 -->\n<g id=\"node41\" class=\"node\">\n<title>40</title>\n<polygon fill=\"#f4c8a8\" stroke=\"#000000\" points=\"2183.5,-53 2079.5,-53 2079.5,0 2183.5,0 2183.5,-53\"/>\n<text text-anchor=\"middle\" x=\"2131.5\" y=\"-37.8\" font-family=\"Times,serif\" font-size=\"14.00\" fill=\"#000000\">mse = 11.211</text>\n<text text-anchor=\"middle\" x=\"2131.5\" y=\"-22.8\" font-family=\"Times,serif\" font-size=\"14.00\" fill=\"#000000\">samples = 6</text>\n<text text-anchor=\"middle\" x=\"2131.5\" y=\"-7.8\" font-family=\"Times,serif\" font-size=\"14.00\" fill=\"#000000\">value = 26.917</text>\n</g>\n<!-- 39&#45;&gt;40 -->\n<g id=\"edge40\" class=\"edge\">\n<title>39&#45;&gt;40</title>\n<path fill=\"none\" stroke=\"#000000\" d=\"M2131.5,-88.9777C2131.5,-80.7364 2131.5,-71.887 2131.5,-63.5153\"/>\n<polygon fill=\"#000000\" stroke=\"#000000\" points=\"2135.0001,-63.2484 2131.5,-53.2485 2128.0001,-63.2485 2135.0001,-63.2484\"/>\n</g>\n<!-- 41 -->\n<g id=\"node42\" class=\"node\">\n<title>41</title>\n<polygon fill=\"#f9e3d3\" stroke=\"#000000\" points=\"2291,-53 2202,-53 2202,0 2291,0 2291,-53\"/>\n<text text-anchor=\"middle\" x=\"2246.5\" y=\"-37.8\" font-family=\"Times,serif\" font-size=\"14.00\" fill=\"#000000\">mse = 9.0</text>\n<text text-anchor=\"middle\" x=\"2246.5\" y=\"-22.8\" font-family=\"Times,serif\" font-size=\"14.00\" fill=\"#000000\">samples = 2</text>\n<text text-anchor=\"middle\" x=\"2246.5\" y=\"-7.8\" font-family=\"Times,serif\" font-size=\"14.00\" fill=\"#000000\">value = 18.0</text>\n</g>\n<!-- 39&#45;&gt;41 -->\n<g id=\"edge41\" class=\"edge\">\n<title>39&#45;&gt;41</title>\n<path fill=\"none\" stroke=\"#000000\" d=\"M2172.0447,-88.9777C2183.2845,-79.546 2195.4736,-69.3178 2206.6721,-59.9208\"/>\n<polygon fill=\"#000000\" stroke=\"#000000\" points=\"2209.213,-62.3576 2214.6236,-53.2485 2204.7134,-56.9954 2209.213,-62.3576\"/>\n</g>\n<!-- 43 -->\n<g id=\"node44\" class=\"node\">\n<title>43</title>\n<polygon fill=\"#f9e4d5\" stroke=\"#000000\" points=\"2589,-261 2478,-261 2478,-193 2589,-193 2589,-261\"/>\n<text text-anchor=\"middle\" x=\"2533.5\" y=\"-245.8\" font-family=\"Times,serif\" font-size=\"14.00\" fill=\"#000000\">CRIM &lt;= 0.579</text>\n<text text-anchor=\"middle\" x=\"2533.5\" y=\"-230.8\" font-family=\"Times,serif\" font-size=\"14.00\" fill=\"#000000\">mse = 13.897</text>\n<text text-anchor=\"middle\" x=\"2533.5\" y=\"-215.8\" font-family=\"Times,serif\" font-size=\"14.00\" fill=\"#000000\">samples = 44</text>\n<text text-anchor=\"middle\" x=\"2533.5\" y=\"-200.8\" font-family=\"Times,serif\" font-size=\"14.00\" fill=\"#000000\">value = 17.645</text>\n</g>\n<!-- 42&#45;&gt;43 -->\n<g id=\"edge43\" class=\"edge\">\n<title>42&#45;&gt;43</title>\n<path fill=\"none\" stroke=\"#000000\" d=\"M2533.5,-296.9465C2533.5,-288.776 2533.5,-279.9318 2533.5,-271.3697\"/>\n<polygon fill=\"#000000\" stroke=\"#000000\" points=\"2537.0001,-271.13 2533.5,-261.13 2530.0001,-271.13 2537.0001,-271.13\"/>\n</g>\n<!-- 50 -->\n<g id=\"node51\" class=\"node\">\n<title>50</title>\n<polygon fill=\"#fdf4ed\" stroke=\"#000000\" points=\"2938,-261 2819,-261 2819,-193 2938,-193 2938,-261\"/>\n<text text-anchor=\"middle\" x=\"2878.5\" y=\"-245.8\" font-family=\"Times,serif\" font-size=\"14.00\" fill=\"#000000\">CRIM &lt;= 10.534</text>\n<text text-anchor=\"middle\" x=\"2878.5\" y=\"-230.8\" font-family=\"Times,serif\" font-size=\"14.00\" fill=\"#000000\">mse = 12.522</text>\n<text text-anchor=\"middle\" x=\"2878.5\" y=\"-215.8\" font-family=\"Times,serif\" font-size=\"14.00\" fill=\"#000000\">samples = 85</text>\n<text text-anchor=\"middle\" x=\"2878.5\" y=\"-200.8\" font-family=\"Times,serif\" font-size=\"14.00\" fill=\"#000000\">value = 12.513</text>\n</g>\n<!-- 42&#45;&gt;50 -->\n<g id=\"edge50\" class=\"edge\">\n<title>42&#45;&gt;50</title>\n<path fill=\"none\" stroke=\"#000000\" d=\"M2586.6502,-314.9779C2646.3388,-296.9848 2743.4216,-267.7193 2809.0648,-247.9312\"/>\n<polygon fill=\"#000000\" stroke=\"#000000\" points=\"2810.352,-251.1988 2818.9162,-244.9615 2808.3316,-244.4967 2810.352,-251.1988\"/>\n</g>\n<!-- 44 -->\n<g id=\"node45\" class=\"node\">\n<title>44</title>\n<polygon fill=\"#f8decb\" stroke=\"#000000\" points=\"2524.5,-157 2420.5,-157 2420.5,-89 2524.5,-89 2524.5,-157\"/>\n<text text-anchor=\"middle\" x=\"2472.5\" y=\"-141.8\" font-family=\"Times,serif\" font-size=\"14.00\" fill=\"#000000\">RM &lt;= 6.168</text>\n<text text-anchor=\"middle\" x=\"2472.5\" y=\"-126.8\" font-family=\"Times,serif\" font-size=\"14.00\" fill=\"#000000\">mse = 8.104</text>\n<text text-anchor=\"middle\" x=\"2472.5\" y=\"-111.8\" font-family=\"Times,serif\" font-size=\"14.00\" fill=\"#000000\">samples = 22</text>\n<text text-anchor=\"middle\" x=\"2472.5\" y=\"-96.8\" font-family=\"Times,serif\" font-size=\"14.00\" fill=\"#000000\">value = 19.718</text>\n</g>\n<!-- 43&#45;&gt;44 -->\n<g id=\"edge44\" class=\"edge\">\n<title>43&#45;&gt;44</title>\n<path fill=\"none\" stroke=\"#000000\" d=\"M2513.5263,-192.9465C2508.4707,-184.3271 2502.9753,-174.9579 2497.6983,-165.9611\"/>\n<polygon fill=\"#000000\" stroke=\"#000000\" points=\"2500.5969,-163.985 2492.5186,-157.13 2494.5589,-167.5265 2500.5969,-163.985\"/>\n</g>\n<!-- 47 -->\n<g id=\"node48\" class=\"node\">\n<title>47</title>\n<polygon fill=\"#fbeadf\" stroke=\"#000000\" points=\"2646.5,-157 2542.5,-157 2542.5,-89 2646.5,-89 2646.5,-157\"/>\n<text text-anchor=\"middle\" x=\"2594.5\" y=\"-141.8\" font-family=\"Times,serif\" font-size=\"14.00\" fill=\"#000000\">RM &lt;= 6.843</text>\n<text text-anchor=\"middle\" x=\"2594.5\" y=\"-126.8\" font-family=\"Times,serif\" font-size=\"14.00\" fill=\"#000000\">mse = 11.098</text>\n<text text-anchor=\"middle\" x=\"2594.5\" y=\"-111.8\" font-family=\"Times,serif\" font-size=\"14.00\" fill=\"#000000\">samples = 22</text>\n<text text-anchor=\"middle\" x=\"2594.5\" y=\"-96.8\" font-family=\"Times,serif\" font-size=\"14.00\" fill=\"#000000\">value = 15.573</text>\n</g>\n<!-- 43&#45;&gt;47 -->\n<g id=\"edge47\" class=\"edge\">\n<title>43&#45;&gt;47</title>\n<path fill=\"none\" stroke=\"#000000\" d=\"M2553.4737,-192.9465C2558.5293,-184.3271 2564.0247,-174.9579 2569.3017,-165.9611\"/>\n<polygon fill=\"#000000\" stroke=\"#000000\" points=\"2572.4411,-167.5265 2574.4814,-157.13 2566.4031,-163.985 2572.4411,-167.5265\"/>\n</g>\n<!-- 45 -->\n<g id=\"node46\" class=\"node\">\n<title>45</title>\n<polygon fill=\"#f8dfcc\" stroke=\"#000000\" points=\"2413.5,-53 2309.5,-53 2309.5,0 2413.5,0 2413.5,-53\"/>\n<text text-anchor=\"middle\" x=\"2361.5\" y=\"-37.8\" font-family=\"Times,serif\" font-size=\"14.00\" fill=\"#000000\">mse = 5.772</text>\n<text text-anchor=\"middle\" x=\"2361.5\" y=\"-22.8\" font-family=\"Times,serif\" font-size=\"14.00\" fill=\"#000000\">samples = 21</text>\n<text text-anchor=\"middle\" x=\"2361.5\" y=\"-7.8\" font-family=\"Times,serif\" font-size=\"14.00\" fill=\"#000000\">value = 19.367</text>\n</g>\n<!-- 44&#45;&gt;45 -->\n<g id=\"edge45\" class=\"edge\">\n<title>44&#45;&gt;45</title>\n<path fill=\"none\" stroke=\"#000000\" d=\"M2433.3656,-88.9777C2422.5167,-79.546 2410.7516,-69.3178 2399.9426,-59.9208\"/>\n<polygon fill=\"#000000\" stroke=\"#000000\" points=\"2402.1108,-57.1681 2392.2677,-53.2485 2397.5181,-62.4508 2402.1108,-57.1681\"/>\n</g>\n<!-- 46 -->\n<g id=\"node47\" class=\"node\">\n<title>46</title>\n<polygon fill=\"#f3c7a7\" stroke=\"#000000\" points=\"2521,-53 2432,-53 2432,0 2521,0 2521,-53\"/>\n<text text-anchor=\"middle\" x=\"2476.5\" y=\"-37.8\" font-family=\"Times,serif\" font-size=\"14.00\" fill=\"#000000\">mse = &#45;0.0</text>\n<text text-anchor=\"middle\" x=\"2476.5\" y=\"-22.8\" font-family=\"Times,serif\" font-size=\"14.00\" fill=\"#000000\">samples = 1</text>\n<text text-anchor=\"middle\" x=\"2476.5\" y=\"-7.8\" font-family=\"Times,serif\" font-size=\"14.00\" fill=\"#000000\">value = 27.1</text>\n</g>\n<!-- 44&#45;&gt;46 -->\n<g id=\"edge46\" class=\"edge\">\n<title>44&#45;&gt;46</title>\n<path fill=\"none\" stroke=\"#000000\" d=\"M2473.9103,-88.9777C2474.2519,-80.7364 2474.6187,-71.887 2474.9657,-63.5153\"/>\n<polygon fill=\"#000000\" stroke=\"#000000\" points=\"2478.474,-63.3849 2475.3913,-53.2485 2471.48,-63.0949 2478.474,-63.3849\"/>\n</g>\n<!-- 48 -->\n<g id=\"node49\" class=\"node\">\n<title>48</title>\n<polygon fill=\"#fbece1\" stroke=\"#000000\" points=\"2643.5,-53 2539.5,-53 2539.5,0 2643.5,0 2643.5,-53\"/>\n<text text-anchor=\"middle\" x=\"2591.5\" y=\"-37.8\" font-family=\"Times,serif\" font-size=\"14.00\" fill=\"#000000\">mse = 4.53</text>\n<text text-anchor=\"middle\" x=\"2591.5\" y=\"-22.8\" font-family=\"Times,serif\" font-size=\"14.00\" fill=\"#000000\">samples = 21</text>\n<text text-anchor=\"middle\" x=\"2591.5\" y=\"-7.8\" font-family=\"Times,serif\" font-size=\"14.00\" fill=\"#000000\">value = 15.005</text>\n</g>\n<!-- 47&#45;&gt;48 -->\n<g id=\"edge48\" class=\"edge\">\n<title>47&#45;&gt;48</title>\n<path fill=\"none\" stroke=\"#000000\" d=\"M2593.4423,-88.9777C2593.1861,-80.7364 2592.911,-71.887 2592.6507,-63.5153\"/>\n<polygon fill=\"#000000\" stroke=\"#000000\" points=\"2596.1407,-63.1349 2592.3316,-53.2485 2589.1441,-63.3524 2596.1407,-63.1349\"/>\n</g>\n<!-- 49 -->\n<g id=\"node50\" class=\"node\">\n<title>49</title>\n<polygon fill=\"#f3c6a5\" stroke=\"#000000\" points=\"2751,-53 2662,-53 2662,0 2751,0 2751,-53\"/>\n<text text-anchor=\"middle\" x=\"2706.5\" y=\"-37.8\" font-family=\"Times,serif\" font-size=\"14.00\" fill=\"#000000\">mse = 0.0</text>\n<text text-anchor=\"middle\" x=\"2706.5\" y=\"-22.8\" font-family=\"Times,serif\" font-size=\"14.00\" fill=\"#000000\">samples = 1</text>\n<text text-anchor=\"middle\" x=\"2706.5\" y=\"-7.8\" font-family=\"Times,serif\" font-size=\"14.00\" fill=\"#000000\">value = 27.5</text>\n</g>\n<!-- 47&#45;&gt;49 -->\n<g id=\"edge49\" class=\"edge\">\n<title>47&#45;&gt;49</title>\n<path fill=\"none\" stroke=\"#000000\" d=\"M2633.987,-88.9777C2644.9336,-79.546 2656.8047,-69.3178 2667.7111,-59.9208\"/>\n<polygon fill=\"#000000\" stroke=\"#000000\" points=\"2670.1639,-62.4274 2675.4551,-53.2485 2665.5947,-57.1244 2670.1639,-62.4274\"/>\n</g>\n<!-- 51 -->\n<g id=\"node52\" class=\"node\">\n<title>51</title>\n<polygon fill=\"#fcefe5\" stroke=\"#000000\" points=\"2937.5,-157 2819.5,-157 2819.5,-89 2937.5,-89 2937.5,-157\"/>\n<text text-anchor=\"middle\" x=\"2878.5\" y=\"-141.8\" font-family=\"Times,serif\" font-size=\"14.00\" fill=\"#000000\">LSTAT &lt;= 18.93</text>\n<text text-anchor=\"middle\" x=\"2878.5\" y=\"-126.8\" font-family=\"Times,serif\" font-size=\"14.00\" fill=\"#000000\">mse = 8.886</text>\n<text text-anchor=\"middle\" x=\"2878.5\" y=\"-111.8\" font-family=\"Times,serif\" font-size=\"14.00\" fill=\"#000000\">samples = 54</text>\n<text text-anchor=\"middle\" x=\"2878.5\" y=\"-96.8\" font-family=\"Times,serif\" font-size=\"14.00\" fill=\"#000000\">value = 14.181</text>\n</g>\n<!-- 50&#45;&gt;51 -->\n<g id=\"edge51\" class=\"edge\">\n<title>50&#45;&gt;51</title>\n<path fill=\"none\" stroke=\"#000000\" d=\"M2878.5,-192.9465C2878.5,-184.776 2878.5,-175.9318 2878.5,-167.3697\"/>\n<polygon fill=\"#000000\" stroke=\"#000000\" points=\"2882.0001,-167.13 2878.5,-157.13 2875.0001,-167.13 2882.0001,-167.13\"/>\n</g>\n<!-- 54 -->\n<g id=\"node55\" class=\"node\">\n<title>54</title>\n<polygon fill=\"#fffdfb\" stroke=\"#000000\" points=\"3118.5,-157 3012.5,-157 3012.5,-89 3118.5,-89 3118.5,-157\"/>\n<text text-anchor=\"middle\" x=\"3065.5\" y=\"-141.8\" font-family=\"Times,serif\" font-size=\"14.00\" fill=\"#000000\">NOX &lt;= 0.675</text>\n<text text-anchor=\"middle\" x=\"3065.5\" y=\"-126.8\" font-family=\"Times,serif\" font-size=\"14.00\" fill=\"#000000\">mse = 5.557</text>\n<text text-anchor=\"middle\" x=\"3065.5\" y=\"-111.8\" font-family=\"Times,serif\" font-size=\"14.00\" fill=\"#000000\">samples = 31</text>\n<text text-anchor=\"middle\" x=\"3065.5\" y=\"-96.8\" font-family=\"Times,serif\" font-size=\"14.00\" fill=\"#000000\">value = 9.606</text>\n</g>\n<!-- 50&#45;&gt;54 -->\n<g id=\"edge54\" class=\"edge\">\n<title>50&#45;&gt;54</title>\n<path fill=\"none\" stroke=\"#000000\" d=\"M2938.1821,-193.8078C2959.0387,-182.2084 2982.4899,-169.166 3003.5288,-157.4652\"/>\n<polygon fill=\"#000000\" stroke=\"#000000\" points=\"3005.345,-160.4601 3012.3833,-152.5409 3001.9427,-154.3425 3005.345,-160.4601\"/>\n</g>\n<!-- 52 -->\n<g id=\"node53\" class=\"node\">\n<title>52</title>\n<polygon fill=\"#fbeade\" stroke=\"#000000\" points=\"2873.5,-53 2769.5,-53 2769.5,0 2873.5,0 2873.5,-53\"/>\n<text text-anchor=\"middle\" x=\"2821.5\" y=\"-37.8\" font-family=\"Times,serif\" font-size=\"14.00\" fill=\"#000000\">mse = 4.962</text>\n<text text-anchor=\"middle\" x=\"2821.5\" y=\"-22.8\" font-family=\"Times,serif\" font-size=\"14.00\" fill=\"#000000\">samples = 29</text>\n<text text-anchor=\"middle\" x=\"2821.5\" y=\"-7.8\" font-family=\"Times,serif\" font-size=\"14.00\" fill=\"#000000\">value = 15.659</text>\n</g>\n<!-- 51&#45;&gt;52 -->\n<g id=\"edge52\" class=\"edge\">\n<title>51&#45;&gt;52</title>\n<path fill=\"none\" stroke=\"#000000\" d=\"M2858.4039,-88.9777C2853.2656,-80.2786 2847.727,-70.9018 2842.5425,-62.1247\"/>\n<polygon fill=\"#000000\" stroke=\"#000000\" points=\"2845.399,-60.0786 2837.2996,-53.2485 2839.3719,-63.6387 2845.399,-60.0786\"/>\n</g>\n<!-- 53 -->\n<g id=\"node54\" class=\"node\">\n<title>53</title>\n<polygon fill=\"#fdf4ed\" stroke=\"#000000\" points=\"2995.5,-53 2891.5,-53 2891.5,0 2995.5,0 2995.5,-53\"/>\n<text text-anchor=\"middle\" x=\"2943.5\" y=\"-37.8\" font-family=\"Times,serif\" font-size=\"14.00\" fill=\"#000000\">mse = 7.971</text>\n<text text-anchor=\"middle\" x=\"2943.5\" y=\"-22.8\" font-family=\"Times,serif\" font-size=\"14.00\" fill=\"#000000\">samples = 25</text>\n<text text-anchor=\"middle\" x=\"2943.5\" y=\"-7.8\" font-family=\"Times,serif\" font-size=\"14.00\" fill=\"#000000\">value = 12.468</text>\n</g>\n<!-- 51&#45;&gt;53 -->\n<g id=\"edge53\" class=\"edge\">\n<title>51&#45;&gt;53</title>\n<path fill=\"none\" stroke=\"#000000\" d=\"M2901.4166,-88.9777C2907.3994,-80.0954 2913.8582,-70.5067 2919.877,-61.5711\"/>\n<polygon fill=\"#000000\" stroke=\"#000000\" points=\"2922.7991,-63.4978 2925.4829,-53.2485 2916.9933,-59.5871 2922.7991,-63.4978\"/>\n</g>\n<!-- 55 -->\n<g id=\"node56\" class=\"node\">\n<title>55</title>\n<polygon fill=\"#fdf4ee\" stroke=\"#000000\" points=\"3117.5,-53 3013.5,-53 3013.5,0 3117.5,0 3117.5,-53\"/>\n<text text-anchor=\"middle\" x=\"3065.5\" y=\"-37.8\" font-family=\"Times,serif\" font-size=\"14.00\" fill=\"#000000\">mse = 2.19</text>\n<text text-anchor=\"middle\" x=\"3065.5\" y=\"-22.8\" font-family=\"Times,serif\" font-size=\"14.00\" fill=\"#000000\">samples = 7</text>\n<text text-anchor=\"middle\" x=\"3065.5\" y=\"-7.8\" font-family=\"Times,serif\" font-size=\"14.00\" fill=\"#000000\">value = 12.286</text>\n</g>\n<!-- 54&#45;&gt;55 -->\n<g id=\"edge55\" class=\"edge\">\n<title>54&#45;&gt;55</title>\n<path fill=\"none\" stroke=\"#000000\" d=\"M3065.5,-88.9777C3065.5,-80.7364 3065.5,-71.887 3065.5,-63.5153\"/>\n<polygon fill=\"#000000\" stroke=\"#000000\" points=\"3069.0001,-63.2484 3065.5,-53.2485 3062.0001,-63.2485 3069.0001,-63.2484\"/>\n</g>\n<!-- 56 -->\n<g id=\"node57\" class=\"node\">\n<title>56</title>\n<polygon fill=\"#ffffff\" stroke=\"#000000\" points=\"3233,-53 3136,-53 3136,0 3233,0 3233,-53\"/>\n<text text-anchor=\"middle\" x=\"3184.5\" y=\"-37.8\" font-family=\"Times,serif\" font-size=\"14.00\" fill=\"#000000\">mse = 3.834</text>\n<text text-anchor=\"middle\" x=\"3184.5\" y=\"-22.8\" font-family=\"Times,serif\" font-size=\"14.00\" fill=\"#000000\">samples = 24</text>\n<text text-anchor=\"middle\" x=\"3184.5\" y=\"-7.8\" font-family=\"Times,serif\" font-size=\"14.00\" fill=\"#000000\">value = 8.825</text>\n</g>\n<!-- 54&#45;&gt;56 -->\n<g id=\"edge56\" class=\"edge\">\n<title>54&#45;&gt;56</title>\n<path fill=\"none\" stroke=\"#000000\" d=\"M3107.4549,-88.9777C3119.1986,-79.4545 3131.9438,-69.1191 3143.624,-59.6473\"/>\n<polygon fill=\"#000000\" stroke=\"#000000\" points=\"3145.9522,-62.2656 3151.5148,-53.2485 3141.5432,-56.8286 3145.9522,-62.2656\"/>\n</g>\n</g>\n</svg>\n"
          },
          "metadata": {
            "tags": []
          },
          "execution_count": 21
        }
      ]
    },
    {
      "cell_type": "code",
      "metadata": {
        "id": "aDOCyEDa243K",
        "outputId": "5cc5eec0-8520-44c8-cf91-a81de4670b75",
        "colab": {
          "base_uri": "https://localhost:8080/",
          "height": 196
        }
      },
      "source": [
        "pre = reg.predict(x_test)\n",
        "pre"
      ],
      "execution_count": 22,
      "outputs": [
        {
          "output_type": "execute_result",
          "data": {
            "text/plain": [
              "array([15.65862069, 18.        , 34.40454545, 22.69066667, 45.36111111,\n",
              "       15.0047619 , 20.73486239, 15.65862069, 12.468     , 30.27777778,\n",
              "       12.28571429, 20.73486239, 50.        , 34.40454545, 19.36666667,\n",
              "       20.73486239,  8.825     , 20.73486239, 20.73486239, 20.73486239,\n",
              "       21.9       , 26.48387097, 22.69066667, 22.69066667, 20.73486239,\n",
              "       20.73486239, 15.65862069, 22.69066667, 22.69066667, 19.36666667,\n",
              "       20.73486239, 20.73486239, 26.91666667, 20.73486239, 22.69066667,\n",
              "       34.40454545, 20.73486239, 12.468     , 20.73486239,  8.825     ,\n",
              "       19.36666667, 18.        , 45.36111111,  8.825     , 27.1       ,\n",
              "       22.69066667, 20.73486239, 45.36111111, 12.28571429, 34.40454545,\n",
              "       50.        ])"
            ]
          },
          "metadata": {
            "tags": []
          },
          "execution_count": 22
        }
      ]
    }
  ]
}